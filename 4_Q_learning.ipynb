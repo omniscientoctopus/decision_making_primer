{
 "cells": [
  {
   "cell_type": "markdown",
   "metadata": {
    "slideshow": {
     "slide_type": "slide"
    }
   },
   "source": [
    "# Solving MDPs using Q-learning"
   ]
  },
  {
   "cell_type": "markdown",
   "metadata": {
    "slideshow": {
     "slide_type": "slide"
    }
   },
   "source": [
    "## Introduction"
   ]
  },
  {
   "cell_type": "markdown",
   "metadata": {
    "slideshow": {
     "slide_type": "fragment"
    }
   },
   "source": [
    "- Given an MDP $\\langle \\mathcal{S}, \\mathcal{A}, \\mathcal{T}, \\mathcal{R}, \\gamma \\rangle$, we would like to find an optimal policy $\\pi^*$"
   ]
  },
  {
   "cell_type": "markdown",
   "metadata": {
    "slideshow": {
     "slide_type": "fragment"
    }
   },
   "source": [
    "- In the dynamic programming approaches like Value Iteration and Policy Iteration, we were able to *plan* our actions when we know the probabilities over the next states, given by $\\mathcal{T}$ and rewards, given by $\\mathcal{R}$."
   ]
  },
  {
   "cell_type": "markdown",
   "metadata": {},
   "source": [
    "<div align=\"center\"> \n",
    "<img src=\"images/backup_diagram.png\"  width=\"40%\"/>\n",
    "</div>"
   ]
  },
  {
   "cell_type": "markdown",
   "metadata": {
    "slideshow": {
     "slide_type": "fragment"
    }
   },
   "source": [
    "- Practical challenge: $\\mathcal{T}, \\mathcal{R}$ not explicitly available to us."
   ]
  },
  {
   "cell_type": "markdown",
   "metadata": {
    "slideshow": {
     "slide_type": "slide"
    }
   },
   "source": [
    "## Motivation"
   ]
  },
  {
   "cell_type": "markdown",
   "metadata": {
    "slideshow": {
     "slide_type": "fragment"
    }
   },
   "source": [
    "<div align=\"center\"> \n",
    "<img src=\"images/RL_crow.gif\"  width=\"40%\"/>\n",
    "</div>\n"
   ]
  },
  {
   "cell_type": "markdown",
   "metadata": {
    "slideshow": {
     "slide_type": "fragment"
    }
   },
   "source": [
    "Real environments can be very complex and you might not have an accurate model to describe it.\n",
    "\n",
    "For example, training robots, develop self-driving cars and many more!\n",
    "\n",
    "However, you can interact with the environment to learn how to act optimally in it."
   ]
  },
  {
   "cell_type": "markdown",
   "metadata": {
    "slideshow": {
     "slide_type": "slide"
    }
   },
   "source": [
    "## Machine Learning Overview"
   ]
  },
  {
   "cell_type": "markdown",
   "metadata": {
    "slideshow": {
     "slide_type": "fragment"
    }
   },
   "source": [
    "<div align=\"center\"> \n",
    "<img src=\"images/ml_paradigms.png\"  width=\"60%\"/>\n",
    "</div>"
   ]
  },
  {
   "cell_type": "markdown",
   "metadata": {
    "slideshow": {
     "slide_type": "notes"
    }
   },
   "source": [
    "- 3 Pillars in ML\n",
    "- RL: Decision-making under uncertainty -> MDP -> T and R not known"
   ]
  },
  {
   "cell_type": "markdown",
   "metadata": {
    "slideshow": {
     "slide_type": "slide"
    }
   },
   "source": [
    "## How does it work?"
   ]
  },
  {
   "cell_type": "markdown",
   "metadata": {
    "slideshow": {
     "slide_type": "fragment"
    }
   },
   "source": [
    "- Reinforcement Learning (RL)  focuses on *learning* the optimal actions by interacting with the environment. "
   ]
  },
  {
   "cell_type": "markdown",
   "metadata": {
    "slideshow": {
     "slide_type": "fragment"
    }
   },
   "source": [
    "\n",
    "- Reinforcement Learning (RL)  focuses on *learning* the optimal actions by interacting with the environment. \n",
    "\n",
    "<div align=\"center\"> \n",
    "<img src=\"images/RL_illustration_0.png\"  width=\"50%\"/>\n",
    "</div>"
   ]
  },
  {
   "cell_type": "markdown",
   "metadata": {
    "slideshow": {
     "slide_type": "slide"
    }
   },
   "source": [
    "## How does it work?\n",
    "\n",
    "- Reinforcement Learning (RL)  focuses on *learning* the optimal actions by interacting with the environment. \n",
    "\n",
    "<div align=\"center\"> \n",
    "<img src=\"images/RL_illustration.png\"  width=\"50%\"/>\n",
    "</div>"
   ]
  },
  {
   "cell_type": "markdown",
   "metadata": {
    "slideshow": {
     "slide_type": "fragment"
    }
   },
   "source": [
    "- The agent is in state $s \\in \\mathcal{S}$ and choses to take action $a \\in \\mathcal{A}$ in the environment. This action results in reward $r \\in \\mathcal{R}$ and sends the agent into a new state $s'\\in \\mathcal{S}$ and the cycle continues."
   ]
  },
  {
   "cell_type": "markdown",
   "metadata": {
    "slideshow": {
     "slide_type": "fragment"
    }
   },
   "source": [
    "- $s_0, a_0, r_1, s_1, a_1, r_2, s_2, \\ldots$"
   ]
  },
  {
   "cell_type": "markdown",
   "metadata": {
    "slideshow": {
     "slide_type": "slide"
    }
   },
   "source": [
    "## RL Algorithms"
   ]
  },
  {
   "cell_type": "markdown",
   "metadata": {
    "slideshow": {
     "slide_type": "fragment"
    }
   },
   "source": [
    "<div align=\"center\"> \n",
    "<img src=\"images/rl_algorithms.png\"  width=\"70%\"/>\n",
    "</div>"
   ]
  },
  {
   "cell_type": "markdown",
   "metadata": {
    "slideshow": {
     "slide_type": "slide"
    }
   },
   "source": [
    "## Q-Learning"
   ]
  },
  {
   "cell_type": "markdown",
   "metadata": {
    "slideshow": {
     "slide_type": "fragment"
    }
   },
   "source": [
    "- Learn $Q^*(s,a)$. But why?"
   ]
  },
  {
   "cell_type": "markdown",
   "metadata": {
    "slideshow": {
     "slide_type": "fragment"
    }
   },
   "source": [
    "Act greedily wrt $Q^*(s,a)$,\n",
    "\n",
    "$$\\pi^*(s) = \\textrm{argmax}_{a} Q^*(s,a)$$"
   ]
  },
  {
   "cell_type": "markdown",
   "metadata": {
    "slideshow": {
     "slide_type": "fragment"
    }
   },
   "source": [
    "Recall once again, the Bellman optimality equations for optimal $Q$ values,\n",
    "\n",
    "$$Q_{*}(s,a) = \\sum_{s'} \\mathcal{T}(s' | s, a) \\big [\\mathcal{R}(s,a,s') + \\gamma \\cdot \\max_{a'} Q_{*}(s',a') \\big ],$$"
   ]
  },
  {
   "cell_type": "markdown",
   "metadata": {
    "slideshow": {
     "slide_type": "fragment"
    }
   },
   "source": [
    "\n",
    "If you look closely, we are seeking an estimate of the $Q$ value for a state-action pair which is of the form,\n",
    "\n",
    "$$\\mathbb{E}[X] = \\sum_{x} \\mathbb{P}(x) \\cdot x.$$"
   ]
  },
  {
   "cell_type": "markdown",
   "metadata": {
    "slideshow": {
     "slide_type": "notes"
    }
   },
   "source": [
    "Give yourself a cookie if you recognised this equation from the previous tutorials on sampling"
   ]
  },
  {
   "cell_type": "markdown",
   "metadata": {
    "slideshow": {
     "slide_type": "slide"
    }
   },
   "source": [
    "### Quick Detour"
   ]
  },
  {
   "cell_type": "markdown",
   "metadata": {
    "slideshow": {
     "slide_type": "fragment"
    }
   },
   "source": [
    "In the simplest Monte Carlo approach, we can estimate the mean as,\n",
    "\n",
    "$$\\mathbb{E}[X] \\approx \\mu_N(X) = \\frac{1}{N} \\sum_{i=1}^{N} x_i, \\, x_i \\sim X.$$"
   ]
  },
  {
   "cell_type": "markdown",
   "metadata": {
    "slideshow": {
     "slide_type": "fragment"
    }
   },
   "source": [
    "For example, say we are tracking the price $X$ of Apple's stock everyday, and in the first 5 days, we receive the following 5 values,\n",
    "\n",
    "$$152, 155, 157, 160, 158.$$"
   ]
  },
  {
   "cell_type": "markdown",
   "metadata": {
    "slideshow": {
     "slide_type": "fragment"
    }
   },
   "source": [
    "\n",
    "What is the average value of the stock over the $5$ days?\n",
    "\n",
    "$$\\mu_5 = \\frac{152 + 155 + 157 + 160 + 158}{5}.$$"
   ]
  },
  {
   "cell_type": "markdown",
   "metadata": {
    "slideshow": {
     "slide_type": "slide"
    }
   },
   "source": [
    "On the next trading day, we get a new update say the price is $159$. Simplest way to update our estimate is,\n",
    "\n",
    "$$\\mu_6 = \\frac{152 + 155 + 157 + 160 + 158 + 159}{6}.$$"
   ]
  },
  {
   "cell_type": "markdown",
   "metadata": {
    "slideshow": {
     "slide_type": "fragment"
    }
   },
   "source": [
    "More clever way to do this,\n",
    "\n",
    "$$\\mu_6 = \\frac{(152 + 155 + 157 + 160 + 158) + 159}{6} = \\frac{\\mu_5 \\cdot 5 + 159}{6}.$$"
   ]
  },
  {
   "cell_type": "markdown",
   "metadata": {
    "slideshow": {
     "slide_type": "fragment"
    }
   },
   "source": [
    "In general, \n",
    "\n",
    "$$\\mu_n =  \\frac{\\mu_{n-1} \\cdot (n-1) + x_n}{n},$$\n",
    "\n",
    "which is called a *cumulative average*."
   ]
  },
  {
   "cell_type": "markdown",
   "metadata": {
    "slideshow": {
     "slide_type": "slide"
    }
   },
   "source": [
    "We rewrite this once again,\n",
    "\n",
    "$$\\mu_n =  \\Big ( 1 - \\frac{1}{n} \\Big ) \\mu_{n-1} + \\Big ( \\frac{1}{n} \\Big ) x_n.$$"
   ]
  },
  {
   "cell_type": "markdown",
   "metadata": {
    "slideshow": {
     "slide_type": "fragment"
    }
   },
   "source": [
    "General idea,\n",
    "\n",
    "$$\\mu_n = (1 - \\alpha) \\cdot \\text{old estimate} + \\alpha \\cdot \\text{new estimate},$$\n",
    "\n",
    "where, $\\alpha = \\frac{1}{n}$ for cumulative averaging."
   ]
  },
  {
   "cell_type": "markdown",
   "metadata": {
    "slideshow": {
     "slide_type": "fragment"
    }
   },
   "source": [
    "Alternatively,\n",
    "\n",
    "$$\\mu_n = \\text{old estimate} + \\alpha \\cdot (\\text{new estimate} - \\text{old estimate}),$$"
   ]
  },
  {
   "cell_type": "markdown",
   "metadata": {
    "slideshow": {
     "slide_type": "slide"
    }
   },
   "source": [
    "### Back to Q-learning"
   ]
  },
  {
   "cell_type": "markdown",
   "metadata": {
    "slideshow": {
     "slide_type": "fragment"
    }
   },
   "source": [
    "When we take actions in world, we collect experiences in the following form, \n",
    "\n",
    "$$(s, a, r, s').$$"
   ]
  },
  {
   "cell_type": "markdown",
   "metadata": {
    "slideshow": {
     "slide_type": "fragment"
    }
   },
   "source": [
    "We then use these samples to improve our estimate of $Q$ values in the following way,\n",
    "\n",
    "$$Q_{k+1}(s, a) = (1 - \\alpha) \\cdot \\text{old estimate} + \\alpha \\cdot \\text{new estimate}$$\n",
    "\n",
    "where $\\alpha \\in (0, 1)$ is aptly called *learning rate* because it governs the rate at which we incorporate new information."
   ]
  },
  {
   "cell_type": "markdown",
   "metadata": {
    "slideshow": {
     "slide_type": "fragment"
    }
   },
   "source": [
    "- If $\\alpha = 1 \\implies$ neglect old information\n",
    "\n",
    "- If $\\alpha = 0 \\implies$ neglect new information"
   ]
  },
  {
   "cell_type": "markdown",
   "metadata": {
    "slideshow": {
     "slide_type": "slide"
    }
   },
   "source": [
    "- We build the new estimate called *Temporal Difference Target* (TD target) using the Bellman equation,\n",
    "\n",
    "$$\\text{TD target} = r + \\gamma \\cdot V_{*}(s') $$  "
   ]
  },
  {
   "cell_type": "markdown",
   "metadata": {
    "slideshow": {
     "slide_type": "fragment"
    }
   },
   "source": [
    "- But we don't have $V_{*}(s')$, we estimate the future value of $s'$ using our current estimate $Q_k$ (*bootstrapping*), like we did in DP."
   ]
  },
  {
   "cell_type": "markdown",
   "metadata": {
    "slideshow": {
     "slide_type": "fragment"
    }
   },
   "source": [
    "- Our TD target is therefore,\n",
    "\n",
    "$$\\text{TD target} = r + \\gamma \\cdot \\max_{a'} Q_k(s', a').$$  "
   ]
  },
  {
   "cell_type": "markdown",
   "metadata": {
    "slideshow": {
     "slide_type": "fragment"
    }
   },
   "source": [
    "- The $Q$ value update therefore has the following form,\n",
    "\n",
    "$$Q_{k+1}(s, a) = (1 - \\alpha) \\cdot \\text{old estimate} + \\alpha \\cdot \\text{TD target}.$$"
   ]
  },
  {
   "cell_type": "markdown",
   "metadata": {
    "slideshow": {
     "slide_type": "slide"
    }
   },
   "source": [
    "- We now simply combine the previous equations together,\n",
    "\n",
    "$$Q_{k+1}(s, a) = (1 - \\alpha) \\cdot Q_k(s, a) + \\alpha \\cdot \\big [  r + \\gamma \\cdot \\max_{a'} Q_k(s', a') \\big ]$$"
   ]
  },
  {
   "cell_type": "markdown",
   "metadata": {
    "slideshow": {
     "slide_type": "fragment"
    }
   },
   "source": [
    "$$Q_{k+1}(s, a) = Q_k(s, a) - \\alpha \\cdot Q_k(s, a) + \\alpha \\cdot \\big [  r + \\gamma \\cdot \\max_{a'} Q_k(s', a') \\big ]$$"
   ]
  },
  {
   "cell_type": "markdown",
   "metadata": {
    "slideshow": {
     "slide_type": "fragment"
    }
   },
   "source": [
    "$$Q_{k+1}(s, a) = Q_k(s, a) + \\alpha \\cdot \\big [  r + \\gamma \\cdot \\max_{a'} Q_k(s, a') -  Q_k(s, a) \\big ]$$"
   ]
  },
  {
   "cell_type": "markdown",
   "metadata": {
    "slideshow": {
     "slide_type": "fragment"
    }
   },
   "source": [
    "Intuitively, we are nudging our current estimate in the direction of the difference between the current estimate and TD target."
   ]
  },
  {
   "cell_type": "markdown",
   "metadata": {
    "slideshow": {
     "slide_type": "slide"
    }
   },
   "source": [
    "## Exploration v/s Exploitation Trade-off"
   ]
  },
  {
   "cell_type": "markdown",
   "metadata": {
    "slideshow": {
     "slide_type": "fragment"
    }
   },
   "source": [
    "Optimal policy: $\\pi^*(s) = \\textrm{argmax}_{a} Q^*(s,a)$."
   ]
  },
  {
   "cell_type": "markdown",
   "metadata": {
    "slideshow": {
     "slide_type": "fragment"
    }
   },
   "source": [
    "However, greedy policy: $\\pi_k(s) = \\textrm{argmax}_{a} Q_k(s,a)$.\n"
   ]
  },
  {
   "cell_type": "markdown",
   "metadata": {
    "slideshow": {
     "rise": {
      "enable_chalkboard": true
     },
     "slide_type": "fragment"
    }
   },
   "source": [
    "Iteration 0:\n",
    "\n",
    "<div align=\"center\"> \n",
    "<img src=\"images/exploration.png\"  width=\"30%\"/>\n",
    "</div>"
   ]
  },
  {
   "cell_type": "markdown",
   "metadata": {
    "slideshow": {
     "slide_type": "fragment"
    }
   },
   "source": [
    "Iteration 1:\n",
    "\n",
    "<div align=\"center\"> \n",
    "<img src=\"images/exploration_1.png\"  width=\"30%\"/>\n",
    "</div>\n"
   ]
  },
  {
   "cell_type": "markdown",
   "metadata": {
    "slideshow": {
     "slide_type": "fragment"
    }
   },
   "source": [
    "Since we are learning from experiences, we need to occasionally visit new states by deviating from the greedy policy by taking random actions. "
   ]
  },
  {
   "cell_type": "markdown",
   "metadata": {
    "slideshow": {
     "slide_type": "slide"
    }
   },
   "source": [
    "Somewhat intuitively, you can think of this as follows,\n",
    "\n",
    "Consider the choice between watching a new TV show v/s rewatching your favourite TV show. You know that you will definitely derive pleasure from watching your favourite TV show. However, the new show could potentially be better than your current favourite but trying it out also carries the risk of being disappointed. At the same time, you will never find a better one if you do not explore."
   ]
  },
  {
   "cell_type": "markdown",
   "metadata": {
    "slideshow": {
     "slide_type": "slide"
    }
   },
   "source": [
    "### Exploration Strategy: 𝜖-greedy policy"
   ]
  },
  {
   "cell_type": "markdown",
   "metadata": {
    "slideshow": {
     "slide_type": "fragment"
    }
   },
   "source": [
    "The simplest policy is called the $\\epsilon$-greedy policy, where you take random actions with probability $\\epsilon$.\n",
    "\n",
    "Mathematically, the $\\epsilon$-greedy policy is given as follows,\n",
    "\n",
    "$$\n",
    "\\pi_{\\epsilon}(s) = \n",
    "\\begin{cases}\n",
    "  \\mathrm{argmax}_{a} Q_k(s, a), & \\mathbb{P} = 1 - \\epsilon, \\\\\n",
    "  a \\in \\mathcal{A}, & \\mathbb{P} = \\epsilon.\n",
    "\\end{cases}\n",
    "$$"
   ]
  },
  {
   "cell_type": "markdown",
   "metadata": {
    "slideshow": {
     "slide_type": "slide"
    }
   },
   "source": [
    "## Demonstration\n",
    "\n",
    "demonstration of various stages of Q learning, i.e. episode 0, episode 10, episode 50, episode 200"
   ]
  },
  {
   "cell_type": "markdown",
   "metadata": {
    "slideshow": {
     "slide_type": "slide"
    }
   },
   "source": [
    "# Algorithm"
   ]
  },
  {
   "cell_type": "markdown",
   "metadata": {
    "slideshow": {
     "slide_type": "fragment"
    }
   },
   "source": [
    "Initialise Q values for all states-action pairs\n",
    "Choose a learning rate in (0, 1] # hyperparameter\n",
    "Choose exploration probability # hyperparameter\n",
    "Choose number of episodes # hyperparameter\n",
    "\n",
    "Loop for each episode:\n",
    "\n",
    "    Get start state s0\n",
    "\n",
    "    Loop until terminal state:\n",
    "\n",
    "        # choose an action\n",
    "        Choose actions according to the ε-greedy policy\n",
    "\n",
    "        # step in the environment\n",
    "        Take action (a) in the environment, observe reward (r) and move to next state (s')\n",
    "\n",
    "        # Q-learning using (s,a,r,s')\n",
    "        - get current value Q(s,a)\n",
    "        - estimate future value: V*(s')\n",
    "        - compute TD target: r + γ * V*(s')\n",
    "        - Apply learning update to Q(s,a)\n",
    "\n",
    "        Update current state to (s')"
   ]
  },
  {
   "cell_type": "markdown",
   "metadata": {
    "slideshow": {
     "slide_type": "slide"
    }
   },
   "source": [
    "## Python Programming"
   ]
  },
  {
   "cell_type": "code",
   "execution_count": 1,
   "metadata": {
    "slideshow": {
     "slide_type": "fragment"
    }
   },
   "outputs": [],
   "source": [
    "import random\n",
    "import numpy as np\n",
    "from frozen_lake import FrozenLake\n",
    "\n",
    "import matplotlib.pyplot as plt\n",
    "from utils import plot_values, format_plot"
   ]
  },
  {
   "cell_type": "code",
   "execution_count": 2,
   "metadata": {
    "slideshow": {
     "slide_type": "fragment"
    }
   },
   "outputs": [],
   "source": [
    "env = FrozenLake(prob_slip=0)"
   ]
  },
  {
   "cell_type": "markdown",
   "metadata": {
    "slideshow": {
     "slide_type": "slide"
    }
   },
   "source": [
    "## Initialisations"
   ]
  },
  {
   "cell_type": "code",
   "execution_count": 3,
   "metadata": {
    "slideshow": {
     "slide_type": "fragment"
    }
   },
   "outputs": [],
   "source": [
    "num_states = env.observation_space.n\n",
    "num_actions = env.action_space.n\n",
    "DISCOUNT_FACTOR = 0.9\n",
    "\n",
    "# randomly initialise Q values for all states \n",
    "Q_values = np.random.rand(num_states, num_actions)\n",
    "learning_rate = 0.9\n",
    "epsilon = 0.6\n",
    "NUM_EPISODES = 200\n",
    "\n",
    "store_rewards = []"
   ]
  },
  {
   "cell_type": "markdown",
   "metadata": {
    "slideshow": {
     "slide_type": "slide"
    }
   },
   "source": [
    "## Q-learning"
   ]
  },
  {
   "cell_type": "code",
   "execution_count": 4,
   "metadata": {
    "slideshow": {
     "slide_type": "fragment"
    }
   },
   "outputs": [],
   "source": [
    "# We train the agent for several episodes\n",
    "for episode in range(NUM_EPISODES):\n",
    "\n",
    "    done = False\n",
    "    state = env.reset()\n",
    "    total_reward = 0\n",
    "\n",
    "    while not done:\n",
    "\n",
    "        # ε-greedy policy to select actions\n",
    "        # select random action with probability ε\n",
    "        # |---------------ε----|\n",
    "        # 0                    1\n",
    "        if random.uniform(0, 1) < epsilon:\n",
    "            action = random.choice([0, 1, 2, 3])\n",
    "        # select greedy action\n",
    "        # simply act greedily wrt Q values\n",
    "        else:\n",
    "            # get Q values of all actions in current state\n",
    "            q_values = Q_values[state, :]\n",
    "            # if more than one action provides maximum, \n",
    "            # we break ties randomly\n",
    "            optimal_actions = np.flatnonzero(q_values == max(q_values))\n",
    "            action = np.random.choice(optimal_actions)\n",
    "\n",
    "        # take a step in the environment\n",
    "        next_state, reward, done = env.step(action)\n",
    "\n",
    "        ## Q-Learning ##\n",
    "  \n",
    "        # get current Q values\n",
    "        old_q = Q_values[state, action]\n",
    "\n",
    "        # compute value of next_state\n",
    "        # V(s') = max_a' Q(s', a')\n",
    "        future_value = max(Q_values[next_state]) * int(1 - done)\n",
    "        \n",
    "        # compute TD target\n",
    "        # TD_target = r + γ max_a' Q(s', a')\n",
    "        TD_target = reward + DISCOUNT_FACTOR * future_value\n",
    "\n",
    "        # update Q table\n",
    "        # Q(s,a) = Q(s, a) + α (r + γ max_a' Q(s', a') - Q(s,a))\n",
    "        Q_values[state, action] = Q_values[state, action] + learning_rate * (TD_target - old_q)\n",
    "\n",
    "        # update the state\n",
    "        state = next_state"
   ]
  },
  {
   "cell_type": "code",
   "execution_count": 5,
   "metadata": {
    "slideshow": {
     "slide_type": "slide"
    }
   },
   "outputs": [
    {
     "data": {
      "image/png": "[encoded data removed]",
      "text/plain": [
       "<Figure size 500x500 with 1 Axes>"
      ]
     },
     "metadata": {},
     "output_type": "display_data"
    }
   ],
   "source": [
    "value_function = np.max(Q_values, axis=1)\n",
    "\n",
    "fig, ax = plt.subplots(figsize=(5,5))\n",
    "\n",
    "plot_values(ax, value_function)\n",
    "format_plot(ax)\n",
    "\n",
    "plt.show()"
   ]
  },
  {
   "cell_type": "markdown",
   "metadata": {
    "slideshow": {
     "slide_type": "slide"
    }
   },
   "source": [
    "## Quiz\n",
    "\n",
    "- What happens when the epsilon is set to 1? Why?\n",
    "\n",
    "- What happens when the epsilon is set to 0? Why?"
   ]
  },
  {
   "cell_type": "markdown",
   "metadata": {
    "slideshow": {
     "slide_type": "slide"
    }
   },
   "source": [
    "## Takeaways"
   ]
  },
  {
   "cell_type": "markdown",
   "metadata": {
    "slideshow": {
     "slide_type": "fragment"
    }
   },
   "source": [
    "- Reinforcement learning is an approach to solving MDPs when the underlying transition and reward models are not known."
   ]
  },
  {
   "cell_type": "markdown",
   "metadata": {
    "slideshow": {
     "slide_type": "fragment"
    }
   },
   "source": [
    "- In order to learn the optimal action, the RL agent interacts with the environment. These interactions provide feedback based on which the agent takes future actions."
   ]
  },
  {
   "cell_type": "markdown",
   "metadata": {
    "slideshow": {
     "slide_type": "fragment"
    }
   },
   "source": [
    "- Q Learning is value-based algorithm that updates the Q values of state-action values based on interaction with the environment."
   ]
  },
  {
   "cell_type": "markdown",
   "metadata": {
    "slideshow": {
     "slide_type": "fragment"
    }
   },
   "source": [
    "- $Q_{k+1}(s, a) = Q_k(s, a) + \\alpha \\cdot \\big [  r + \\gamma \\cdot \\max_{a'} Q_k(s, a') -  Q_k(s', a) \\big ]$"
   ]
  },
  {
   "cell_type": "markdown",
   "metadata": {
    "slideshow": {
     "slide_type": "fragment"
    }
   },
   "source": [
    "- The exploration/exploitation trade-off is important aspect in RL to ensure you sufficiently explore the policy space."
   ]
  },
  {
   "cell_type": "markdown",
   "metadata": {
    "slideshow": {
     "slide_type": "slide"
    }
   },
   "source": [
    "# References"
   ]
  },
  {
   "cell_type": "markdown",
   "metadata": {
    "slideshow": {
     "slide_type": "fragment"
    }
   },
   "source": [
    "Brockman, G.. OpenAI Gym. arXiv (2016). https://arxiv.org/pdf/1606.01540.pdf\n",
    "\n",
    "Richard S. Sutton & Andrew G. Barto. Reinforcement learning : an introduction. (2020)"
   ]
  }
 ],
 "metadata": {
  "celltoolbar": "Slideshow",
  "kernelspec": {
   "display_name": "Python 3 (ipykernel)",
   "language": "python",
   "name": "python3"
  },
  "language_info": {
   "codemirror_mode": {
    "name": "ipython",
    "version": 3
   },
   "file_extension": ".py",
   "mimetype": "text/x-python",
   "name": "python",
   "nbconvert_exporter": "python",
   "pygments_lexer": "ipython3",
   "version": "3.11.2"
  },
  "vscode": {
   "interpreter": {
    "hash": "df9c06b5e8521cf4ac10b32b5194d6e2193b759c220900fa5a35003364e8f855"
   }
  }
 },
 "nbformat": 4,
 "nbformat_minor": 2
}
