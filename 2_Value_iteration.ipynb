{
 "cells": [
  {
   "cell_type": "markdown",
   "metadata": {
    "slideshow": {
     "slide_type": "slide"
    }
   },
   "source": [
    "# Solving MDPs using Value Iteration"
   ]
  },
  {
   "cell_type": "markdown",
   "metadata": {
    "slideshow": {
     "slide_type": "slide"
    }
   },
   "source": [
    "## Recap"
   ]
  },
  {
   "cell_type": "markdown",
   "metadata": {
    "slideshow": {
     "slide_type": "fragment"
    }
   },
   "source": [
    "- MDPs are a mathematical framework for modeling *Decision Making Under Transition Uncertainty*."
   ]
  },
  {
   "cell_type": "markdown",
   "metadata": {
    "slideshow": {
     "slide_type": "fragment"
    }
   },
   "source": [
    "- MDPs are a 5-tuple $\\langle \\mathcal{S},\\mathcal{A}, \\mathcal{T}, \\mathcal{R}, \\gamma \\rangle$."
   ]
  },
  {
   "cell_type": "markdown",
   "metadata": {
    "slideshow": {
     "slide_type": "fragment"
    }
   },
   "source": [
    "\n",
    "- The solution to an MDP is an optimal policy $\\pi^*$ that maximises the sum of (discounted future) rewards.\n",
    "\n",
    "<!-- - Mathematically, \n",
    "\n",
    "    $$\\pi^* = \\argmax_{\\pi} \\sum_{t=0}^{t_H-1} \\Big [ \\gamma^t R_t | \\pi \\Big ] -->"
   ]
  },
  {
   "cell_type": "markdown",
   "metadata": {
    "slideshow": {
     "slide_type": "slide"
    }
   },
   "source": [
    "## Solution schemes"
   ]
  },
  {
   "cell_type": "markdown",
   "metadata": {
    "slideshow": {
     "slide_type": "fragment"
    }
   },
   "source": [
    "### Core idea\n",
    "\n",
    "- Compute the \"value\" / \"usefulness\" of each state.\n",
    "\n",
    "- Choose actions that take us to most valuable states.\n",
    "\n",
    "Two approaches: **Planning** and **Learning**"
   ]
  },
  {
   "cell_type": "markdown",
   "metadata": {
    "slideshow": {
     "slide_type": "slide"
    }
   },
   "source": [
    "### Planning\n",
    "\n",
    "We can use the transition model $\\mathcal{T}$ and reward model $\\mathcal{R}$ to *plan* our actions in the environment."
   ]
  },
  {
   "cell_type": "markdown",
   "metadata": {
    "slideshow": {
     "slide_type": "fragment"
    }
   },
   "source": [
    "1. **Dynamic Programming**\n",
    "\n",
    "    1.1. Value Iteration\n",
    "    \n",
    "    1.2. Policy Iteration\n",
    "\n",
    "2. **Linear Programming**"
   ]
  },
  {
   "cell_type": "markdown",
   "metadata": {
    "slideshow": {
     "slide_type": "slide"
    }
   },
   "source": [
    "### Learning\n",
    "\n",
    "- However, in many practical problems, the underlying transition and reward models are not explicitly available. \n",
    "\n",
    "- But we can collect experience (trial and error) in the environment using which we can *learn* the optimal policy."
   ]
  },
  {
   "cell_type": "markdown",
   "metadata": {
    "slideshow": {
     "slide_type": "fragment"
    }
   },
   "source": [
    "\n",
    "- **Reinforcement Learning**\n"
   ]
  },
  {
   "cell_type": "markdown",
   "metadata": {
    "slideshow": {
     "slide_type": "slide"
    }
   },
   "source": [
    "## Return"
   ]
  },
  {
   "cell_type": "markdown",
   "metadata": {
    "slideshow": {
     "slide_type": "fragment"
    }
   },
   "source": [
    "\n",
    "Recall, that the MDP is a sequence,\n",
    "\n",
    "$$s_0, a_0, r_1, s_1, a_1, r_2, s_2, a_2, r_3, \\ldots$$ \n"
   ]
  },
  {
   "cell_type": "markdown",
   "metadata": {
    "slideshow": {
     "slide_type": "fragment"
    }
   },
   "source": [
    "\n",
    "and we want to maxmise the rewards we collect."
   ]
  },
  {
   "cell_type": "markdown",
   "metadata": {
    "slideshow": {
     "slide_type": "fragment"
    }
   },
   "source": [
    "In general, the total rewards collected starting at time $t$ is called the return,\n",
    "\n",
    "$$G_t := R_{t} + \\gamma R_{t+1} + \\gamma^2 R_{t+2} + \\ldots , $$\n",
    "\n",
    "where $\\gamma$ is the discount factor.\n"
   ]
  },
  {
   "cell_type": "markdown",
   "metadata": {
    "slideshow": {
     "slide_type": "slide"
    }
   },
   "source": [
    "\n",
    "It can also be defined recursively, \n",
    "\n",
    "$$G_t := R_{t} + \\gamma \\Big [ R_{t+1} + \\gamma R_{t+2} + \\ldots \\Big ]$$\n",
    "\n",
    "$$G_t = R_{t} + \\gamma G_{t+1}$$"
   ]
  },
  {
   "cell_type": "markdown",
   "metadata": {
    "slideshow": {
     "slide_type": "slide"
    }
   },
   "source": [
    "## Example"
   ]
  },
  {
   "cell_type": "markdown",
   "metadata": {
    "slideshow": {
     "slide_type": "fragment"
    }
   },
   "source": [
    "\n",
    "Consider the following reward sequence,\n",
    "\n",
    "$$0, 6, 7, 4, 8, 1$$\n",
    "\n",
    "and assume a discount factor of $\\gamma=0.9$.\n"
   ]
  },
  {
   "cell_type": "markdown",
   "metadata": {
    "slideshow": {
     "slide_type": "fragment"
    }
   },
   "source": [
    "$G_6 = R_6 = 1$"
   ]
  },
  {
   "cell_type": "markdown",
   "metadata": {
    "slideshow": {
     "slide_type": "fragment"
    }
   },
   "source": [
    "$G_5 = R_5 + \\gamma R_6 = 8 + 0.9 \\cdot 1 = 8.9$"
   ]
  },
  {
   "cell_type": "markdown",
   "metadata": {
    "slideshow": {
     "slide_type": "fragment"
    }
   },
   "source": [
    "*verify the recursively relationship we defined previously*\n",
    "\n",
    "How an you write $G_4$ in terms of $G_5$ and $R_4$?"
   ]
  },
  {
   "cell_type": "markdown",
   "metadata": {
    "slideshow": {
     "slide_type": "slide"
    }
   },
   "source": [
    "# Optimal Values"
   ]
  },
  {
   "cell_type": "markdown",
   "metadata": {
    "slideshow": {
     "slide_type": "fragment"
    }
   },
   "source": [
    "- The optimal value of a state $s$ is the expected sum of (discounted) future rewards, when taking optimal action in state $s$ and following $\\pi^*$ thereafter. "
   ]
  },
  {
   "cell_type": "markdown",
   "metadata": {
    "slideshow": {
     "slide_type": "fragment"
    }
   },
   "source": [
    "- Intuitively, it tells us \"*the best return in a particular state*\"."
   ]
  },
  {
   "cell_type": "markdown",
   "metadata": {
    "slideshow": {
     "slide_type": "fragment"
    }
   },
   "source": [
    "- Mathematically, we define the optimal value function $V_{\\pi^*}(s)$ as,\n",
    "\n",
    "$$V_{\\pi^*}(s) := \\mathbb{E}_{\\pi^*} \\big [ G_t | S_t = s \\big ], \\quad \\forall s \\in \\mathcal{S}$$"
   ]
  },
  {
   "attachments": {},
   "cell_type": "markdown",
   "metadata": {
    "slideshow": {
     "slide_type": "slide"
    }
   },
   "source": [
    "### Example: Frozen Lake\n",
    "\n",
    "Recall that our environment is a 4x4 grid and looks like this\n",
    "\n",
    "<div align=\"center\"> \n",
    "<img src=\"images/FrozenLake-v1.png\"  width=\"40%\"/>\n",
    "</div>"
   ]
  },
  {
   "cell_type": "markdown",
   "metadata": {
    "slideshow": {
     "slide_type": "slide"
    }
   },
   "source": [
    "Optimal values in the Frozen Lake example, with discount factor $\\gamma = 0.9$.\n",
    "\n",
    "$V_{\\pi^*}(s) = \\mathbb{E}_{\\pi^*} \\big [ G_t | S_t = s \\big ], \\quad \\forall s \\in \\mathcal{S}$.\n",
    "\n",
    "Key idea: *Given a number of states to choose from, it is most beneficial to move to a state with the highest value.*\n",
    "\n",
    "<div align=\"center\"> \n",
    "<img src=\"images/value_on_map.png\"  width=\"40%\"/>\n",
    "</div>"
   ]
  },
  {
   "cell_type": "markdown",
   "metadata": {
    "slideshow": {
     "slide_type": "slide"
    }
   },
   "source": [
    "# Optimal Action-values"
   ]
  },
  {
   "cell_type": "markdown",
   "metadata": {
    "slideshow": {
     "slide_type": "fragment"
    }
   },
   "source": [
    "Similarly, we define the optimal action-value function $Q_{\\pi^*}(s, a)$ as,\n",
    "\n",
    "$$Q_{\\pi^*}(s, a) := \\mathbb{E}_{\\pi^*} \\big [ G_t | S_t = s, A_t = a \\big ], \\quad \\forall s \\in \\mathcal{S} \\quad \\& \\quad \\forall a \\in \\mathcal{A}$$\n",
    "\n",
    "Intuitively, it is the expected return when starting in state $s$ and taking action $a$ and following policy $\\pi^*$ thereafter."
   ]
  },
  {
   "cell_type": "markdown",
   "metadata": {
    "slideshow": {
     "slide_type": "slide"
    }
   },
   "source": [
    "## Bellman Optimality Equation"
   ]
  },
  {
   "cell_type": "markdown",
   "metadata": {
    "slideshow": {
     "slide_type": "fragment"
    }
   },
   "source": [
    "The Bellman optimality equation is given as follows, \n",
    "\n",
    "$$Q_{*}(s,a) = \\sum_{s'} \\mathcal{T}(s' | s, a) \\big [\\mathcal{R}(s,a,s') + \\gamma \\cdot V_{*}(s') \\big ],$$\n",
    "\n",
    "$$V_{*}(s) = \\max_a Q_{*}(s,a).$$\n",
    "\n",
    "where, $\\mathcal{T}(s' | s, a)$ is the transition model and $\\mathcal{R}(s,a,s')$ is the reward model."
   ]
  },
  {
   "cell_type": "markdown",
   "metadata": {
    "slideshow": {
     "slide_type": "fragment"
    }
   },
   "source": [
    "We combine the two equations above,\n",
    "\n",
    "$$V_{*}(s) = \\max_a \\sum_{s'} \\mathcal{T}(s' | s, a) \\big [\\mathcal{R}(s,a,s') + \\gamma \\cdot V_{*}(s') \\big ].$$"
   ]
  },
  {
   "cell_type": "markdown",
   "metadata": {
    "slideshow": {
     "slide_type": "slide"
    }
   },
   "source": [
    "### Example Calculation"
   ]
  },
  {
   "cell_type": "markdown",
   "metadata": {
    "slideshow": {
     "slide_type": "fragment"
    }
   },
   "source": [
    "Using the Bellman equation, we demonstrate how the value of state $\\mathtt{s^{14}} = (2, 3)$ is $0.9$:"
   ]
  },
  {
   "cell_type": "markdown",
   "metadata": {
    "slideshow": {
     "slide_type": "fragment"
    }
   },
   "source": [
    "<div align=\"center\"> \n",
    "<img src=\"images/value_on_map.png\"  width=\"30%\"/>\n",
    "</div>\n",
    "\n",
    "- Since we have $4$ actions, each state has $4$ Q values. \n",
    "\n",
    "$\n",
    "\\begin{equation}\n",
    "\\begin{split}\n",
    "Q_{*}(\\mathtt{s^{14}}, \\text{Left}) & = \\mathcal{T}(s'= \\mathtt{s^{13}}| s=\\mathtt{s^{14}}, a=\\text{Left}) \\cdot [ \\mathcal{R}(\\mathtt{s^{14}}) + 0.9 \\cdot V_{*}(\\mathtt{s^{13}}) ] \\\\\n",
    "& = 1 \\cdot [ 0 + 0.9 \\cdot 0.81 ] = 0.729\n",
    "\\end{split}\n",
    "\\end{equation}\n",
    "$"
   ]
  },
  {
   "cell_type": "markdown",
   "metadata": {
    "slideshow": {
     "slide_type": "slide"
    }
   },
   "source": [
    "- $Q_{*}(\\mathtt{s^{14}}, \\text{Left}) = 0.729$ \n",
    "\n",
    "Similarly,\n",
    "\n",
    "- $Q_{*}(\\mathtt{s^{14}}, \\text{Down}) = 0 + 0.9 \\cdot 0.9 = 0.81$, \n",
    "\n",
    "- $Q_{*}(\\mathtt{s^{14}}, \\text{Right}) = 0 + 0.9 \\cdot 1 = 0.9$,\n",
    "\n",
    "- $Q_{*}(\\mathtt{s^{14}}, \\text{Up}) = 0 + 0.9 \\cdot 0.81 = 0.729$.\n",
    "\n",
    "And $V_{*}(s^{14})$ is simply the maximum among these values, thus $V_{*}(s^{14}) = 0.9$."
   ]
  },
  {
   "cell_type": "markdown",
   "metadata": {
    "slideshow": {
     "slide_type": "slide"
    }
   },
   "source": [
    "# Value Iteration"
   ]
  },
  {
   "cell_type": "markdown",
   "metadata": {
    "slideshow": {
     "slide_type": "fragment"
    }
   },
   "source": [
    "- The goal of value iteration is to determine the optimal value of each state. "
   ]
  },
  {
   "cell_type": "markdown",
   "metadata": {
    "slideshow": {
     "slide_type": "fragment"
    }
   },
   "source": [
    "- Once we have determined the optimal value of each state, we can obtain the optimal policy simply by acting greedily with respect to these values."
   ]
  },
  {
   "cell_type": "markdown",
   "metadata": {
    "slideshow": {
     "slide_type": "notes"
    }
   },
   "source": [
    "##### Note (for advanced readers):\n",
    "\n",
    "We are currently limiting our discussion to MDPs with deterministic transition and reward models, i.e. models with deterministic outputs.\n",
    "\n",
    "However, dynamic programming can be extended to MDPs with stochastic transition and reward models, i.e. outputs of these models are random and is called **stochastic** dynamic programming."
   ]
  },
  {
   "cell_type": "markdown",
   "metadata": {
    "slideshow": {
     "slide_type": "slide"
    }
   },
   "source": [
    "- Recall the Bellman optimality equation,\n",
    "\n",
    "$$V_{*}(s) = \\max_a \\sum_{s'} \\mathcal{T}(s' | s, a) \\big [\\mathcal{R}(s,a,s') + \\gamma \\cdot V_{*}(s') \\big ].$$"
   ]
  },
  {
   "cell_type": "markdown",
   "metadata": {
    "slideshow": {
     "slide_type": "fragment"
    }
   },
   "source": [
    "- Value iterations converts it into an update equation."
   ]
  },
  {
   "cell_type": "markdown",
   "metadata": {
    "slideshow": {
     "slide_type": "fragment"
    }
   },
   "source": [
    "- Get new estimate $V_{k+1}(s)$ using current estimate $V_{k}(s)$.\n",
    "\n",
    "$$V_{k+1}(s) \\leftarrow \\max_a \\sum_{s'} \\mathcal{T}(s' | s, a) \\big [\\mathcal{R}(s,a,s') + \\gamma \\cdot V_{k}(s') \\big ],$$"
   ]
  },
  {
   "cell_type": "markdown",
   "metadata": {
    "slideshow": {
     "slide_type": "fragment"
    }
   },
   "source": [
    "- Value iteration is a dynamic programming approach that iteratively improves the estimate of the values of the states $V(s)$. "
   ]
  },
  {
   "cell_type": "markdown",
   "metadata": {
    "slideshow": {
     "slide_type": "fragment"
    }
   },
   "source": [
    "- We essentially work our way backwards from the reward states / terminal states in order to determine the value of each state."
   ]
  },
  {
   "cell_type": "markdown",
   "metadata": {
    "slideshow": {
     "slide_type": "slide"
    }
   },
   "source": [
    "<div align=\"center\"> \n",
    "<img src=\"images/value_iteration.png\"  width=\"100%\"/>\n",
    "</div>"
   ]
  },
  {
   "cell_type": "markdown",
   "metadata": {
    "slideshow": {
     "slide_type": "slide"
    }
   },
   "source": [
    "## Value Iteration"
   ]
  },
  {
   "cell_type": "markdown",
   "metadata": {
    "slideshow": {
     "slide_type": "fragment"
    }
   },
   "source": [
    "The algorithm can be summarised as follows:\n",
    "\n",
    "Initialisations: Values of states, accuracy threshold\n",
    "\n",
    "while error > accuracy threshold:\n",
    "\n",
    "    Loop over all states s in S:\n",
    "        old value = current value estimate of state (s)\n",
    "\n",
    "        Loop over all actions a in A:\n",
    "            compute Q(s, a)\n",
    "\n",
    "        V(s) = max Q(s, a)\n",
    "\n",
    "        compute error: |old value - V(s)|"
   ]
  },
  {
   "cell_type": "code",
   "execution_count": 1,
   "metadata": {
    "slideshow": {
     "slide_type": "slide"
    }
   },
   "outputs": [],
   "source": [
    "import copy, math\n",
    "\n",
    "import numpy as np\n",
    "from frozen_lake import FrozenLake\n",
    "\n",
    "import matplotlib.pyplot as plt\n",
    "import seaborn as sns\n",
    "from utils import plot_policy, plot_values, format_plot"
   ]
  },
  {
   "cell_type": "markdown",
   "metadata": {
    "slideshow": {
     "slide_type": "fragment"
    }
   },
   "source": [
    "## Initialise Environment"
   ]
  },
  {
   "cell_type": "code",
   "execution_count": 2,
   "metadata": {
    "slideshow": {
     "slide_type": "fragment"
    }
   },
   "outputs": [],
   "source": [
    "# env = FrozenLake()\n",
    "env = FrozenLake(prob_slip=0.1)\n",
    "\n",
    "num_states = env.observation_space.n\n",
    "num_actions = env.action_space.n\n",
    "DISCOUNT_FACTOR = 0.9"
   ]
  },
  {
   "cell_type": "code",
   "execution_count": 3,
   "metadata": {
    "slideshow": {
     "slide_type": "slide"
    }
   },
   "outputs": [],
   "source": [
    "# Initialisations\n",
    "q_function = np.zeros((num_states, num_actions))\n",
    "value_function = np.zeros(num_states)\n",
    "\n",
    "store_each_iteration = []\n",
    "\n",
    "accuracy_threshold = 1e-4\n",
    "error = 10"
   ]
  },
  {
   "cell_type": "code",
   "execution_count": 4,
   "metadata": {
    "slideshow": {
     "slide_type": "slide"
    }
   },
   "outputs": [],
   "source": [
    "# Fixed point iteration\n",
    "while error > accuracy_threshold:\n",
    "    error = 0\n",
    "\n",
    "    # store each iteration for plotting\n",
    "    # (optional)\n",
    "    store_each_iteration.append(copy.deepcopy(value_function))\n",
    "\n",
    "    # loop over all states\n",
    "    for state in range(num_states):\n",
    "        old_value = value_function[state]\n",
    "\n",
    "        # loop over all actions\n",
    "        # Compute Q values of all actions\n",
    "        for action in range(num_actions):\n",
    "            q_val = 0\n",
    "            tuples = env.MDP(state, action)\n",
    "            for _tuple in tuples:\n",
    "                prob, next_state, reward, done = _tuple\n",
    "                # Q_(k+1)(s,a) = ∑ T(s'|s,a) [R(s) + V_k(s')]\n",
    "                future_value = value_function[next_state] * int(1 - done) # set future values of done states to 0\n",
    "                q_val += prob * (reward + DISCOUNT_FACTOR * future_value)\n",
    "            q_function[state, action] = q_val\n",
    "\n",
    "        # value_function[state] = max(q_values)\n",
    "        value_function[state] = max(q_function[state])\n",
    "\n",
    "        # termination condition\n",
    "        # check difference between old and new value\n",
    "        new_value = value_function[state]\n",
    "        error = max([error, np.abs(old_value - new_value)])"
   ]
  },
  {
   "cell_type": "markdown",
   "metadata": {
    "slideshow": {
     "slide_type": "slide"
    }
   },
   "source": [
    "## Compute Optimal Policy"
   ]
  },
  {
   "cell_type": "code",
   "execution_count": 5,
   "metadata": {
    "slideshow": {
     "slide_type": "fragment"
    }
   },
   "outputs": [],
   "source": [
    "optimal_policy = {}\n",
    "for state in range(num_states):\n",
    "    optimal_policy[state] = [0, 1, 2, 3]\n",
    "    \n",
    "for state in range(num_states):\n",
    "    # get all indices with max value\n",
    "    optimal_actions = np.flatnonzero(q_function[state] == max(q_function[state]))\n",
    "    optimal_policy[state] = optimal_actions"
   ]
  },
  {
   "cell_type": "markdown",
   "metadata": {
    "slideshow": {
     "slide_type": "notes"
    }
   },
   "source": [
    "## Plots\n",
    "\n",
    "Here we plot the value of each state after every iteration. Notice that the values propagate backwards from the reward states and the terminal states."
   ]
  },
  {
   "cell_type": "code",
   "execution_count": 6,
   "metadata": {
    "slideshow": {
     "slide_type": "notes"
    }
   },
   "outputs": [
    {
     "data": {
      "image/png": "[encoded data removed]",
      "text/plain": [
       "<Figure size 1600x800 with 13 Axes>"
      ]
     },
     "metadata": {},
     "output_type": "display_data"
    }
   ],
   "source": [
    "sns.color_palette(\"colorblind\")\n",
    "\n",
    "num_plots = len(store_each_iteration)\n",
    "\n",
    "n_col_plot = 5\n",
    "n_row_plot = math.ceil(num_plots/n_col_plot)\n",
    "\n",
    "fig, ax = plt.subplots(n_row_plot, n_col_plot, figsize=(16, 8))\n",
    "\n",
    "for k, values in enumerate(store_each_iteration):\n",
    "\n",
    "    # select axis in the plot\n",
    "    _row = k//n_col_plot\n",
    "    _col = k%n_col_plot\n",
    "    ax1 = ax[_row, _col]\n",
    "\n",
    "    plot_values(ax1, values)\n",
    "\n",
    "    ax1.set_title(f'Iteration: {k}')\n",
    "\n",
    "    format_plot(ax1)\n",
    "    \n",
    "plot_policy(ax[_row][_col+1], optimal_policy)\n",
    "ax[_row][_col+1].set_title(f'Optimal Policy')\n",
    "format_plot(ax[_row][_col+1])\n",
    "\n",
    "fig.tight_layout()\n",
    "\n",
    "# remove unused axis\n",
    "_to_delete = n_col_plot - num_plots % 5 - 1\n",
    "for p in range(_to_delete):\n",
    "    fig.delaxes(ax[_row][-1-p])"
   ]
  },
  {
   "cell_type": "markdown",
   "metadata": {
    "slideshow": {
     "slide_type": "notes"
    }
   },
   "source": [
    "## Optimal Policy\n",
    "\n",
    "Optimal policy prescribes the best action to take in each state."
   ]
  },
  {
   "cell_type": "code",
   "execution_count": 7,
   "metadata": {
    "slideshow": {
     "slide_type": "notes"
    }
   },
   "outputs": [
    {
     "name": "stdout",
     "output_type": "stream",
     "text": [
      "       Optimal Policy     \n",
      "----------------------------\n",
      "State:  1 |  π*(0) = [2]\n",
      "State:  2 |  π*(1) = [2]\n",
      "State:  3 |  π*(2) = [1]\n",
      "State:  4 |  π*(3) = [0]\n",
      "State:  5 |  π*(4) = [1]\n",
      "State:  6 |  π*(5) = [0 1 2 3]\n",
      "State:  7 |  π*(6) = [1]\n",
      "State:  8 |  π*(7) = [0 1 2 3]\n",
      "State:  9 |  π*(8) = [2]\n",
      "State: 10 |  π*(9) = [2]\n",
      "State: 11 |  π*(10) = [1]\n",
      "State: 12 |  π*(11) = [0 1 2 3]\n",
      "State: 13 |  π*(12) = [0 1 2 3]\n",
      "State: 14 |  π*(13) = [2]\n",
      "State: 15 |  π*(14) = [2]\n",
      "State: 16 |  π*(15) = [0 1 2 3]\n"
     ]
    }
   ],
   "source": [
    "print('       Optimal Policy     ')\n",
    "print('----------------------------')\n",
    "\n",
    "for state in range(num_states):\n",
    "    action = optimal_policy[state]\n",
    "    print(f'State: {state+1:2} |  π*({state}) = {action}')"
   ]
  },
  {
   "cell_type": "markdown",
   "metadata": {
    "slideshow": {
     "slide_type": "slide"
    }
   },
   "source": [
    "### Quiz\n",
    "\n",
    "- What happens when you change the DISCOUNT_FACTOR to $0$? Why?\n",
    "\n",
    "- What happens when you change the DISCOUNT_FACTOR to $1$? Why?\n",
    "\n",
    "- Do both changes have the same effect?"
   ]
  },
  {
   "cell_type": "markdown",
   "metadata": {
    "slideshow": {
     "slide_type": "slide"
    }
   },
   "source": [
    "### Takeaways"
   ]
  },
  {
   "cell_type": "markdown",
   "metadata": {
    "slideshow": {
     "slide_type": "fragment"
    }
   },
   "source": [
    "- To solve the MDP, we focus on computing the optimal values of states."
   ]
  },
  {
   "cell_type": "markdown",
   "metadata": {
    "slideshow": {
     "slide_type": "fragment"
    }
   },
   "source": [
    "- The optimal policy can be obtained simply by acting greedily wrt optimal values."
   ]
  },
  {
   "cell_type": "markdown",
   "metadata": {
    "slideshow": {
     "slide_type": "fragment"
    }
   },
   "source": [
    "- $V_{*}(s) = \\max_a \\sum_{s'} \\mathcal{T}(s' | s, a) \\big [\\mathcal{R}(s) + \\gamma \\cdot V_{*}(s') \\big ]$"
   ]
  },
  {
   "cell_type": "markdown",
   "metadata": {
    "slideshow": {
     "slide_type": "fragment"
    }
   },
   "source": [
    "- Value iteration converts the Bellman optimality into an iterative update."
   ]
  },
  {
   "cell_type": "markdown",
   "metadata": {
    "slideshow": {
     "slide_type": "fragment"
    }
   },
   "source": [
    "- In order to update the values of states, dynamic programming proceeds backwards (backward induction) from the reward states/terminal state and updates the value of each state in every iteration until it converges."
   ]
  },
  {
   "cell_type": "markdown",
   "metadata": {
    "slideshow": {
     "slide_type": "fragment"
    }
   },
   "source": [
    "You can view another example [here](https://cs.stanford.edu/people/karpathy/reinforcejs/gridworld_dp.html) by Andrej Karpathy "
   ]
  },
  {
   "cell_type": "markdown",
   "metadata": {
    "slideshow": {
     "slide_type": "slide"
    }
   },
   "source": [
    "# References\n"
   ]
  },
  {
   "cell_type": "markdown",
   "metadata": {
    "slideshow": {
     "slide_type": "fragment"
    }
   },
   "source": [
    "Brockman, G.. OpenAI Gym. arXiv (2016). https://arxiv.org/pdf/1606.01540.pdf\n",
    "\n",
    "Richard S. Sutton & Andrew G. Barto. Reinforcement learning : an introduction. (2020)"
   ]
  }
 ],
 "metadata": {
  "celltoolbar": "Slideshow",
  "kernelspec": {
   "display_name": "dmu_env",
   "language": "python",
   "name": "python3"
  },
  "language_info": {
   "codemirror_mode": {
    "name": "ipython",
    "version": 3
   },
   "file_extension": ".py",
   "mimetype": "text/x-python",
   "name": "python",
   "nbconvert_exporter": "python",
   "pygments_lexer": "ipython3",
   "version": "3.11.2"
  }
 },
 "nbformat": 4,
 "nbformat_minor": 4
}
