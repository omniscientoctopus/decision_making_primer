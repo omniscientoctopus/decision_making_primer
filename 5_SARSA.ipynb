{
 "cells": [
  {
   "attachments": {},
   "cell_type": "markdown",
   "metadata": {},
   "source": [
    "# SARSA"
   ]
  },
  {
   "cell_type": "code",
   "execution_count": 99,
   "metadata": {},
   "outputs": [],
   "source": [
    "import random\n",
    "import numpy as np\n",
    "from frozen_lake import FrozenLake\n",
    "import matplotlib.pyplot as plt\n",
    "\n",
    "from utils import plot_values, format_plot"
   ]
  },
  {
   "cell_type": "code",
   "execution_count": 100,
   "metadata": {},
   "outputs": [],
   "source": [
    "env = FrozenLake()"
   ]
  },
  {
   "cell_type": "code",
   "execution_count": 101,
   "metadata": {},
   "outputs": [],
   "source": [
    "num_states = 16\n",
    "num_actions = 4\n",
    "\n",
    "Q_values = np.zeros((num_states, num_actions))\n",
    "epsilon = 0.1\n",
    "learning_rate = 0.5\n",
    "DISCOUNT_FACTOR = 0.9\n",
    "\n",
    "NUM_EPISODES = 10_000"
   ]
  },
  {
   "cell_type": "code",
   "execution_count": 102,
   "metadata": {},
   "outputs": [],
   "source": [
    "# We train the agent for several episodes\n",
    "for episode in range(NUM_EPISODES):\n",
    "\n",
    "    done = False\n",
    "    state = env.reset()\n",
    "\n",
    "    # ε-greedy policy to select actions\n",
    "    # select random action with probability ε\n",
    "    # |---------------ε----|\n",
    "    # 0                    1\n",
    "    if random.uniform(0, 1) < epsilon:\n",
    "        action = random.choice([0, 1, 2, 3])\n",
    "    else:\n",
    "        q_values = Q_values[state]\n",
    "        optimal_actions =  np.flatnonzero(q_values == max(q_values))\n",
    "        action = np.random.choice(optimal_actions)\n",
    "\n",
    "    while not done:\n",
    "\n",
    "        # take a step in the environment\n",
    "        next_state, reward, done = env.step(action)\n",
    "\n",
    "        ## SARSA\n",
    "        \n",
    "        # ε-greedy policy to select actions\n",
    "        # select random action with probability ε\n",
    "        # |---------------ε----|\n",
    "        # 0                    1\n",
    "        if random.uniform(0, 1) < epsilon:\n",
    "            next_action = random.choice([0, 1, 2, 3])\n",
    "        # select greedy action\n",
    "        # simply act greedily wrt Q values\n",
    "        else:\n",
    "            q_values = Q_values[next_state]\n",
    "            optimal_actions =  np.flatnonzero(q_values == max(q_values))\n",
    "            next_action = np.random.choice(optimal_actions)\n",
    "\n",
    "        # get current Q values\n",
    "        old_q = Q_values[state, action]\n",
    "        \n",
    "        # compute value of next_state\n",
    "        # V(s') = max_a Q(s', a)\n",
    "        # note that we compute \n",
    "        future_value = Q_values[next_state, next_action] * int(1 - done)\n",
    "\n",
    "        # compute TD target\n",
    "        TD_target = reward + DISCOUNT_FACTOR * future_value\n",
    "\n",
    "        Q_values[state, action] = Q_values[state, action] + learning_rate * (TD_target - old_q)\n",
    "\n",
    "        # update the state and action\n",
    "        state = next_state\n",
    "        action = next_action\n",
    "\n",
    "value_function = np.max(Q_values, axis=1)"
   ]
  },
  {
   "cell_type": "code",
   "execution_count": 103,
   "metadata": {},
   "outputs": [
    {
     "data": {
      "image/png": "[encoded data removed]",
      "text/plain": [
       "<Figure size 500x500 with 1 Axes>"
      ]
     },
     "metadata": {},
     "output_type": "display_data"
    }
   ],
   "source": [
    "fig, ax = plt.subplots(figsize=(5, 5))\n",
    "\n",
    "plot_values(ax, value_function)\n",
    "format_plot(ax)"
   ]
  }
 ],
 "metadata": {
  "kernelspec": {
   "display_name": "pytorch-metal",
   "language": "python",
   "name": "python3"
  },
  "language_info": {
   "codemirror_mode": {
    "name": "ipython",
    "version": 3
   },
   "file_extension": ".py",
   "mimetype": "text/x-python",
   "name": "python",
   "nbconvert_exporter": "python",
   "pygments_lexer": "ipython3",
   "version": "3.11.2"
  },
  "orig_nbformat": 4,
  "vscode": {
   "interpreter": {
    "hash": "df9c06b5e8521cf4ac10b32b5194d6e2193b759c220900fa5a35003364e8f855"
   }
  }
 },
 "nbformat": 4,
 "nbformat_minor": 2
}
