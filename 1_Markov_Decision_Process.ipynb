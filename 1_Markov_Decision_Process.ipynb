{
 "cells": [
  {
   "cell_type": "markdown",
   "metadata": {
    "slideshow": {
     "slide_type": "slide"
    }
   },
   "source": [
    "# A Gentle Introduction to Markov Decision Processes (MDPs)"
   ]
  },
  {
   "cell_type": "markdown",
   "metadata": {
    "slideshow": {
     "slide_type": "slide"
    }
   },
   "source": [
    "### Contents\n",
    "\n",
    "- Motivation\n",
    "\n",
    "- Preliminary: Markov Processes\n",
    "\n",
    "- Markov Decision Processes"
   ]
  },
  {
   "cell_type": "markdown",
   "metadata": {
    "slideshow": {
     "slide_type": "slide"
    }
   },
   "source": [
    "## First off, who is this Markov guy?"
   ]
  },
  {
   "cell_type": "markdown",
   "metadata": {
    "slideshow": {
     "slide_type": "fragment"
    }
   },
   "source": [
    "Andrey Markov (1856-1922) was a Russian mathematician who developed the idea of Markov Processes (also called Markov chains). \n",
    "\n",
    "He used this idea to model how vowels and constants are structured ([alliteration](https://en.wikipedia.org/wiki/Alliteration)) in Russian literature.\n",
    "\n",
    "<div align=\"center\"> \n",
    "<img src=\"images/Andrey_Markov_portrait.png\"/>\n",
    "</div>"
   ]
  },
  {
   "cell_type": "markdown",
   "metadata": {
    "slideshow": {
     "slide_type": "slide"
    }
   },
   "source": [
    "## Motivation"
   ]
  },
  {
   "cell_type": "markdown",
   "metadata": {
    "slideshow": {
     "slide_type": "fragment"
    }
   },
   "source": [
    "Consider the following problems,\n",
    "\n",
    "- **Autonomous driving**: How can you navigate from A to B in traffic in minimum time?"
   ]
  },
  {
   "cell_type": "markdown",
   "metadata": {
    "slideshow": {
     "slide_type": "fragment"
    }
   },
   "source": [
    "- **Stragetic Games**: How can you win at a game of Chess/Go?"
   ]
  },
  {
   "cell_type": "markdown",
   "metadata": {
    "slideshow": {
     "slide_type": "fragment"
    }
   },
   "source": [
    "- **Inspection and Maintenance**: How can we plan inspection and maintenance of deteriorating structures like aeroplanes/buildings?"
   ]
  },
  {
   "cell_type": "markdown",
   "metadata": {
    "slideshow": {
     "slide_type": "slide"
    }
   },
   "source": [
    "What do they have in common? \n",
    "\n",
    "**Decision Making Under Uncertainty**. \n",
    "\n",
    "Intuitively, this refers to acting in an uncertain/stochastic environment (and potentially with limited observability) in order to achieve the desired goal. "
   ]
  },
  {
   "cell_type": "markdown",
   "metadata": {
    "slideshow": {
     "slide_type": "slide"
    }
   },
   "source": [
    "Within this realm, we have \n",
    "\n",
    "- **Single-step decision making**, which involves making a single decision \n",
    "\n",
    "    Examples: Buying a lottery ticket or hiring a new employee "
   ]
  },
  {
   "cell_type": "markdown",
   "metadata": {
    "slideshow": {
     "slide_type": "fragment"
    }
   },
   "source": [
    "- **Sequential decision making**, which involves making a sequence of decisions in order to achieve the desired goal.\n",
    "\n",
    "    Examples: *try to think of examples other than the ones we saw earlier*"
   ]
  },
  {
   "cell_type": "markdown",
   "metadata": {
    "slideshow": {
     "slide_type": "fragment"
    }
   },
   "source": [
    "Here, we focus on the latter case of sequential decision making since it encompasses the former case."
   ]
  },
  {
   "cell_type": "markdown",
   "metadata": {
    "slideshow": {
     "slide_type": "slide"
    }
   },
   "source": [
    "In the context of decision making under uncertainty, we distinguish between\n",
    "\n",
    "**Transition uncertainty**: uncertainties arising from the stochastic environment in which we must make decisions"
   ]
  },
  {
   "cell_type": "markdown",
   "metadata": {
    "slideshow": {
     "slide_type": "fragment"
    }
   },
   "source": [
    "- Mathematical framework: **Markov Decision Processes** (**MDPs**)"
   ]
  },
  {
   "cell_type": "markdown",
   "metadata": {
    "slideshow": {
     "slide_type": "fragment"
    }
   },
   "source": [
    "**State uncertainty**: uncertainty about our state arising from partial/noisy observations of the environment. "
   ]
  },
  {
   "cell_type": "markdown",
   "metadata": {
    "slideshow": {
     "slide_type": "fragment"
    }
   },
   "source": [
    "- Mathematical framework: **Partially Observable Markov Decision Processes** (**POMDPs**)"
   ]
  },
  {
   "cell_type": "markdown",
   "metadata": {
    "slideshow": {
     "slide_type": "slide"
    }
   },
   "source": [
    "## Markov Chains"
   ]
  },
  {
   "cell_type": "markdown",
   "metadata": {
    "slideshow": {
     "slide_type": "fragment"
    }
   },
   "source": [
    "A Markov chain is a special type of random process (also called stochastic process) that satisfies the **Markov property**:\n",
    "\n",
    "- Given the current state, the the next state is independent of the previous states. "
   ]
  },
  {
   "cell_type": "markdown",
   "metadata": {
    "slideshow": {
     "slide_type": "fragment"
    }
   },
   "source": [
    "Mathematically, $\\mathbb{P}(s_{t+1} | s_{t}) = \\mathbb{P}(s_{t+1} | s_{t}, s_{t-1}, s_{t-2}, \\ldots)$, where $s_t$ denotes the state of the process at time instant $t$."
   ]
  },
  {
   "cell_type": "markdown",
   "metadata": {
    "slideshow": {
     "slide_type": "slide"
    }
   },
   "source": [
    "### Example: Hacking Coin Tossing"
   ]
  },
  {
   "cell_type": "markdown",
   "metadata": {
    "slideshow": {
     "slide_type": "fragment"
    }
   },
   "source": [
    "We know that for a fair coin, the probability of head 'H' and tail 'T' are equal. \n",
    "\n",
    "Mathematically, $\\mathbb{P}(H) = \\mathbb{P}(T) = 0.5$.\n",
    "\n",
    "<div align=\"center\"> \n",
    "<img src=\"images/dalle.png\"/>\n",
    "</div>"
   ]
  },
  {
   "cell_type": "markdown",
   "metadata": {
    "slideshow": {
     "slide_type": "slide"
    }
   },
   "source": [
    "**Objective** :\n",
    "Teach a robot how to rig the flip such that you consistently get the outcome you desire. \n",
    "\n",
    "To save resetting time, you make sure that the flipped coin lands back in the robot's hand and the next flip begins with the previous outcome.\n",
    "\n"
   ]
  },
  {
   "cell_type": "markdown",
   "metadata": {
    "slideshow": {
     "slide_type": "slide"
    }
   },
   "source": [
    "After a lot of training, you note that when you flip with \n",
    "\n",
    "- H facing up, probability of getting H again is $0.8$ and probability of getting T is $0.2$.\n",
    "\n",
    "- T facing up, probability of getting T again is $0.7$ and probability of getting H is $0.3$.\n",
    "\n",
    "Note that the probabilities still add up to 1 in each case."
   ]
  },
  {
   "cell_type": "markdown",
   "metadata": {
    "slideshow": {
     "slide_type": "slide"
    }
   },
   "source": [
    "We illustrate the outcome of a flip as follows:\n",
    "\n",
    "<div align=\"center\"> \n",
    "<img src=\"images/transition.png\"/>\n",
    "</div>\n",
    "\n",
    "Here, the arrows indicate the transition of going from the initial state to the next state and number above indicates the respective probability."
   ]
  },
  {
   "cell_type": "markdown",
   "metadata": {},
   "source": [
    "For convinience, we will call the outcome of a flip as the *state* of the coin and denote it by $s_t$, where the subscript $t$ denotes the time instant. The state $s_t$ can ofcourse only take one of two values, H or T. The space of possible states is thus given by the state space $\\mathcal{S} = \\{H, T \\}$."
   ]
  },
  {
   "cell_type": "markdown",
   "metadata": {
    "slideshow": {
     "slide_type": "slide"
    }
   },
   "source": [
    "The next code block illustrates how the above coin flip can be simulated"
   ]
  },
  {
   "cell_type": "code",
   "execution_count": 208,
   "metadata": {
    "slideshow": {
     "slide_type": "fragment"
    }
   },
   "outputs": [
    {
     "name": "stdout",
     "output_type": "stream",
     "text": [
      "Outcome of coin flip: T\n"
     ]
    }
   ],
   "source": [
    "import random\n",
    "\n",
    "def flip_coin(face):\n",
    "\n",
    "    if face == 'H':\n",
    "        return random.choices(['H', 'T'], weights=[0.8, 0.2])\n",
    "    elif face == 'T':\n",
    "        return random.choices(['T', 'H'], weights=[0.7, 0.3])\n",
    "    else:\n",
    "        print('Invalid entry! Only H or T accepted')\n",
    "\n",
    "face = 'T'\n",
    "print(f'Outcome of coin flip: {flip_coin(face)[0]}')"
   ]
  },
  {
   "cell_type": "markdown",
   "metadata": {
    "slideshow": {
     "slide_type": "slide"
    }
   },
   "source": [
    "Let us now flip the coin several times in order to generate a sequence of outcomes."
   ]
  },
  {
   "cell_type": "code",
   "execution_count": 219,
   "metadata": {
    "slideshow": {
     "slide_type": "fragment"
    }
   },
   "outputs": [
    {
     "name": "stdout",
     "output_type": "stream",
     "text": [
      "s_0:H\ts_1:H\ts_2:H\ts_3:H\ts_4:H\ts_5:H\ts_6:T\ts_7:T\ts_8:T\ts_9:H\t"
     ]
    }
   ],
   "source": [
    "num_flips = 10\n",
    "\n",
    "outcome = 'H' # or start with 'H'\n",
    "\n",
    "for i in range(num_flips):\n",
    "    print(f's_{i}:{outcome}', end='\\t')\n",
    "    outcome = flip_coin(outcome)[0]"
   ]
  },
  {
   "cell_type": "markdown",
   "metadata": {
    "slideshow": {
     "slide_type": "slide"
    }
   },
   "source": [
    "Congratulations, you have generated your first Markov Chain / Markov Process!"
   ]
  },
  {
   "cell_type": "markdown",
   "metadata": {
    "slideshow": {
     "slide_type": "fragment"
    }
   },
   "source": [
    "This is a Markov chain because it satisfies the **Markov property**:\n",
    "\n",
    "Given the current state, the next state, is independent of the previous states. \n",
    "\n",
    "Mathematically, $\\mathbb{P}(s_{t+1} | s_{t}) = \\mathbb{P}(s_{t+1} | s_{t}, s_{t-1}, s_{t-2} \\ldots)$"
   ]
  },
  {
   "cell_type": "markdown",
   "metadata": {
    "slideshow": {
     "slide_type": "fragment"
    }
   },
   "source": [
    "Any sequence of outcome generated above is a **Markov process**!\n",
    "\n",
    "The Markov property is also called 'memorylessness' since if you know the current state, you do not need the entire history of previous states to predict the probabilities over the next state."
   ]
  },
  {
   "cell_type": "markdown",
   "metadata": {
    "slideshow": {
     "slide_type": "slide"
    }
   },
   "source": [
    "We summarise the idea of transition between the states in a transition model (or transition function) $\\mathcal{T}(s'|s)$, which denotes the probability of transitioning from the current state $s$ to the next state $s'$. "
   ]
  },
  {
   "cell_type": "markdown",
   "metadata": {
    "slideshow": {
     "slide_type": "fragment"
    }
   },
   "source": [
    "Mathematically, we denote this using a matrix as follows:\n",
    "\n",
    "\n",
    "\\begin{equation*}\n",
    "\\mathcal{T}(s'|s) := \n",
    "\\begin{bmatrix}\n",
    " & s'=H & s'=T \\\\\n",
    "s=H & 0.8 & 0.2 \\\\\n",
    "s=T & 0.3 & 0.7 \\\\\n",
    "\\end{bmatrix} = \n",
    "\\begin{bmatrix}\n",
    "0.8 & 0.2 \\\\\n",
    "0.3 & 0.7 \\\\\n",
    "\\end{bmatrix},\n",
    "\\end{equation*}\n",
    "\n",
    "where, the entry $0.3$ denotes $\\mathbb{P}(s'=H | s=T)$, which is probability of going from state $T$ to $H$. This is simply a formal way for writing the transition probabilites shown in  the image above."
   ]
  },
  {
   "cell_type": "markdown",
   "metadata": {
    "slideshow": {
     "slide_type": "fragment"
    }
   },
   "source": [
    "Note that we have dropped the subscript $t$ because the transition probabilites do not change with time (called **stationary** Markov Process)."
   ]
  },
  {
   "cell_type": "markdown",
   "metadata": {
    "slideshow": {
     "slide_type": "slide"
    }
   },
   "source": [
    "### Quiz\n",
    "\n",
    "Q1. Can you think of another example where this is true? (Hint: which processes can be 'memoryless'?)\n",
    "\n",
    "Q2. Can you think of an example where this is **not** true? (Hint: This is easier than the first one)"
   ]
  },
  {
   "cell_type": "markdown",
   "metadata": {
    "slideshow": {
     "slide_type": "fragment"
    }
   },
   "source": [
    "You can find another interactive example by Victor Powell [here](https://setosa.io/ev/markov-chains/)"
   ]
  },
  {
   "cell_type": "markdown",
   "metadata": {
    "slideshow": {
     "slide_type": "slide"
    }
   },
   "source": [
    "### Stationary Distribution of a Markov process"
   ]
  },
  {
   "cell_type": "markdown",
   "metadata": {
    "slideshow": {
     "slide_type": "fragment"
    }
   },
   "source": [
    "Now imagine that you play a simple game where heads $H$ implies a win and tails $T$ implies a loss. \n",
    "\n",
    "You begin the game with heads $H$ facing up and play several rounds (say 10,000). \n",
    "\n",
    "How many times would you win?\n",
    "\n",
    "In case of a coin being flipped manually, you would expect to win $50 \\%$ of the time but what if we use our robot?"
   ]
  },
  {
   "cell_type": "markdown",
   "metadata": {
    "slideshow": {
     "slide_type": "slide"
    }
   },
   "source": [
    "To calculate this, we reuse the earlier code block with some modifications, mainly to store the outcome after each flip to count the number of wins."
   ]
  },
  {
   "cell_type": "code",
   "execution_count": 221,
   "metadata": {
    "slideshow": {
     "slide_type": "fragment"
    }
   },
   "outputs": [],
   "source": [
    "import numpy as np\n",
    "import matplotlib.pyplot as plt"
   ]
  },
  {
   "cell_type": "code",
   "execution_count": 263,
   "metadata": {
    "slideshow": {
     "slide_type": "fragment"
    }
   },
   "outputs": [
    {
     "name": "stdout",
     "output_type": "stream",
     "text": [
      "Win percentage in round 1: 60.32%\n",
      "Win percentage in round 2: 59.41%\n",
      "Win percentage in round 3: 59.09%\n",
      "Win percentage in round 4: 60.24%\n",
      "Win percentage in round 5: 60.98%\n"
     ]
    }
   ],
   "source": [
    "num_flips = 10_000 # or 100_000\n",
    "result = []\n",
    "\n",
    "num_rounds = 5 # we carry out num_flips num_trials times\n",
    "store_results = np.zeros((num_flips, num_rounds))\n",
    "\n",
    "for k in range(num_rounds):\n",
    "    \n",
    "    outcome = 'T' # or start with 'T'\n",
    "\n",
    "    for flip in range(num_flips):\n",
    "        outcome = flip_coin(outcome)[0]\n",
    "        \n",
    "        # win: 1, loss: 0\n",
    "        result = 1 if outcome == 'H' else 0\n",
    "        store_results[flip, k] = result\n",
    "\n",
    "    num_wins = np.sum(store_results, axis=0)[k]\n",
    "\n",
    "    win_percentage = num_wins*100/num_flips\n",
    "\n",
    "    print(f'Win percentage in round {k+1}: {win_percentage:.2f}%')"
   ]
  },
  {
   "cell_type": "code",
   "execution_count": 738,
   "metadata": {
    "scrolled": true,
    "slideshow": {
     "slide_type": "slide"
    }
   },
   "outputs": [
    {
     "data": {
      "image/png": "[encoded data removed]",
      "text/plain": [
       "<Figure size 640x480 with 1 Axes>"
      ]
     },
     "metadata": {},
     "output_type": "display_data"
    }
   ],
   "source": [
    "_linspace = np.arange(1, num_flips+1)\n",
    "\n",
    "for k in range(num_rounds):\n",
    "    _win_percentage = np.cumsum(store_results[:, k]) / _linspace\n",
    "\n",
    "    plt.plot(_linspace, _win_percentage*100, label=f'Round {k+1}')\n",
    "\n",
    "plt.ylim([-1, 105])\n",
    "plt.title('Win percentage vs Number of flips')\n",
    "plt.xlabel('Number of flips')\n",
    "plt.ylabel('Win percentage')\n",
    "plt.grid()\n",
    "plt.legend()\n",
    "plt.show()"
   ]
  },
  {
   "cell_type": "markdown",
   "metadata": {
    "slideshow": {
     "slide_type": "notes"
    }
   },
   "source": [
    "With the robot, the new win percentage is close to $60 \\%$. (Different runs we have different initial behavior but nonetheless converges to 0.6)"
   ]
  },
  {
   "cell_type": "markdown",
   "metadata": {
    "slideshow": {
     "slide_type": "fragment"
    }
   },
   "source": [
    "It would result in the same outcome, even if you started with T (try for youself!). \n",
    "\n",
    "This is called the *stationary distribution of the Markov chain*. "
   ]
  },
  {
   "cell_type": "code",
   "execution_count": 265,
   "metadata": {
    "slideshow": {
     "slide_type": "slide"
    }
   },
   "outputs": [
    {
     "name": "stdout",
     "output_type": "stream",
     "text": [
      "Outcome of 1 flip: \n",
      " [[0.3]\n",
      " [0.7]]\n"
     ]
    }
   ],
   "source": [
    "# we can also compute the stationary distribution using the transition matrix\n",
    "transition_matrix = np.array([[0.8, 0.2],\n",
    "                              [0.3, 0.7]])\n",
    "\n",
    "head = np.array([[0], [1]])\n",
    "# tail = np.array([[0], [1]]) # try this\n",
    "\n",
    "# 1 flip: transition @ head\n",
    "print(f'Outcome of 1 flip: \\n {transition_matrix.T @ head}')"
   ]
  },
  {
   "cell_type": "code",
   "execution_count": 735,
   "metadata": {
    "slideshow": {
     "slide_type": "slide"
    }
   },
   "outputs": [
    {
     "name": "stdout",
     "output_type": "stream",
     "text": [
      "How the transition matrix changes after n flips\n",
      "Number of flips 1: \n",
      " [[0.8 0.3]\n",
      " [0.2 0.7]]\n",
      "Number of flips 2: \n",
      " [[0.7  0.45]\n",
      " [0.3  0.55]]\n",
      "Number of flips 4: \n",
      " [[0.625  0.5625]\n",
      " [0.375  0.4375]]\n",
      "Number of flips 8: \n",
      " [[0.6015625  0.59765625]\n",
      " [0.3984375  0.40234375]]\n",
      "Number of flips 30: \n",
      " [[0.6 0.6]\n",
      " [0.4 0.4]]\n"
     ]
    }
   ],
   "source": [
    "# 2 flips: transition @ transition @ head = (transition)^2 @ head\n",
    "# 3 flips: transition @ transition @ transition @ head = (transition)^3 @ head\n",
    "\n",
    "num_flips = [1, 2, 4, 8, 30]\n",
    "\n",
    "print(f'How the transition matrix changes after n flips')\n",
    "\n",
    "for i in num_flips:\n",
    "\n",
    "    outcome = np.linalg.matrix_power(transition_matrix.T, i)\n",
    "    print(f'Number of flips {i}: \\n {outcome}')"
   ]
  },
  {
   "cell_type": "markdown",
   "metadata": {
    "slideshow": {
     "slide_type": "slide"
    }
   },
   "source": [
    "After just $8$ flips, we can observe that we are very close the stationary distribution.\n",
    "\n",
    "Intuitively, if the robot flipped a coin $8$ times, we expect to get $8^{\\text{th}}$ outcome to be H $60\\%$ of the time, regardless of which side we start with!"
   ]
  },
  {
   "cell_type": "markdown",
   "metadata": {
    "slideshow": {
     "slide_type": "slide"
    }
   },
   "source": [
    "### Eigenvalue problem to find stationary distribution\n",
    "\n",
    "This is another (more efficient) way to compute the stationary distribution"
   ]
  },
  {
   "cell_type": "code",
   "execution_count": 266,
   "metadata": {
    "slideshow": {
     "slide_type": "fragment"
    }
   },
   "outputs": [
    {
     "name": "stdout",
     "output_type": "stream",
     "text": [
      "Stationary distribution of the Markov chain is: [0.6 0.4]\n"
     ]
    }
   ],
   "source": [
    "eig_vals, eig_vecs = np.linalg.eig(transition_matrix.T)\n",
    "\n",
    "# get eigenvector corresponding to eigenvalue = 1 \n",
    "idx = np.where(eig_vals==1)[0][0]\n",
    "\n",
    "# normalise so that sum is 1\n",
    "stationary_dist = eig_vecs[:, idx]/np.sum(eig_vecs[:, idx])\n",
    "\n",
    "print(f'Stationary distribution of the Markov chain is: {stationary_dist}')"
   ]
  },
  {
   "cell_type": "markdown",
   "metadata": {
    "slideshow": {
     "slide_type": "slide"
    }
   },
   "source": [
    "## Markov Decision Process"
   ]
  },
  {
   "cell_type": "markdown",
   "metadata": {
    "slideshow": {
     "slide_type": "fragment"
    }
   },
   "source": [
    "Recall that a Markov process is defined by the tuple $\\langle \\mathcal{S}, \\mathcal{T} \\rangle$, where $\\mathcal{S}$ denotes the state space and $\\mathcal{T}$ denotes the transition between those states."
   ]
  },
  {
   "cell_type": "markdown",
   "metadata": {
    "slideshow": {
     "slide_type": "fragment"
    }
   },
   "source": [
    "A Markov Decision Process is a 5-tuple $\\langle \\mathcal{S}, \\mathcal{A}, \\mathcal{T}, \\mathcal{R}, \\gamma \\rangle$, where "
   ]
  },
  {
   "cell_type": "markdown",
   "metadata": {
    "slideshow": {
     "slide_type": "fragment"
    }
   },
   "source": [
    "- $\\mathcal{S}$ denotes the state space (as before)"
   ]
  },
  {
   "cell_type": "markdown",
   "metadata": {
    "slideshow": {
     "slide_type": "fragment"
    }
   },
   "source": [
    "- $\\mathcal{A}$ is the action space, "
   ]
  },
  {
   "cell_type": "markdown",
   "metadata": {
    "slideshow": {
     "slide_type": "fragment"
    }
   },
   "source": [
    "- $\\mathcal{T}$ is the transition model (almost the same as before, with some new properties),"
   ]
  },
  {
   "cell_type": "markdown",
   "metadata": {
    "slideshow": {
     "slide_type": "fragment"
    }
   },
   "source": [
    "- $\\mathcal{R}$ is the reward model and "
   ]
  },
  {
   "cell_type": "markdown",
   "metadata": {
    "slideshow": {
     "slide_type": "fragment"
    }
   },
   "source": [
    "- $\\gamma$ is the discount factor"
   ]
  },
  {
   "cell_type": "markdown",
   "metadata": {
    "slideshow": {
     "slide_type": "slide"
    }
   },
   "source": [
    "## Example: Frozen Lake"
   ]
  },
  {
   "cell_type": "markdown",
   "metadata": {
    "slideshow": {
     "slide_type": "fragment"
    }
   },
   "source": [
    "A humble elf is trying to collect a present that is across a frozen lake but there are some holes along the way as shown in the image below. Falling into the hole causes the game to end. We would like to find the shortest path to the present.\n",
    "\n",
    "<div align=\"center\"> \n",
    "<img src=\"images/FrozenLake-v1.png\"/>\n",
    "</div>"
   ]
  },
  {
   "cell_type": "markdown",
   "metadata": {
    "slideshow": {
     "slide_type": "slide"
    }
   },
   "source": [
    "#### State Space ($\\mathcal{S}$)\n",
    "\n",
    "In this example, the state represents the location of the elf on the 4x4 grid. "
   ]
  },
  {
   "cell_type": "markdown",
   "metadata": {
    "slideshow": {
     "slide_type": "fragment"
    }
   },
   "source": [
    "The start state (S) is the upper left corner with coordinates $(0,0)$ and the goal state (G) is the lower right corner with coordinates $(3,3)$. "
   ]
  },
  {
   "cell_type": "markdown",
   "metadata": {
    "slideshow": {
     "slide_type": "fragment"
    }
   },
   "source": [
    "The state space has 16 elements and is written as follows,"
   ]
  },
  {
   "cell_type": "markdown",
   "metadata": {
    "slideshow": {
     "slide_type": "fragment"
    }
   },
   "source": [
    "$$\\mathcal{S} := \\{ \\mathtt{s}^0=(0,0), \\mathtt{s}^1=(0,1), \\, \\mathtt{s}^2=(0,2), \\mathtt{s}^3=(0,3), \\mathtt{s}^4=(1,0), \\ldots, \\mathtt{s}^{15}=(3,3) \\}.$$"
   ]
  },
  {
   "cell_type": "markdown",
   "metadata": {
    "slideshow": {
     "slide_type": "fragment"
    }
   },
   "source": [
    "Note that we have used the superscript to count the elements in the state space as we will use the subscript to denote the time, i.e. location at time $t=2$ could for example be $(0,3)$, $s_2=\\mathtt{s}^3$. "
   ]
  },
  {
   "cell_type": "markdown",
   "metadata": {
    "slideshow": {
     "slide_type": "slide"
    }
   },
   "source": [
    "#### Action Space ($\\mathcal{A}$)\n",
    "\n",
    "The elf can move in 4 different directions 'Up', 'Down', 'Left' or 'Right'. Bumping into the boundary causes it to remain in the same place. "
   ]
  },
  {
   "cell_type": "markdown",
   "metadata": {
    "slideshow": {
     "slide_type": "fragment"
    }
   },
   "source": [
    "We denote the action space as,\n",
    "\n",
    "$$\\mathcal{A} := \\{ \\mathtt{a}^0=\\text{Left}, \\mathtt{a}^1=\\text{Down}, \\mathtt{a}^2=\\text{Right}, \\mathtt{a}^3=\\text{Up} \\}$$"
   ]
  },
  {
   "cell_type": "markdown",
   "metadata": {
    "slideshow": {
     "slide_type": "notes"
    }
   },
   "source": [
    "Note that we have used the superscript to count the elements in the action space as we will use the subscript to denote the time, i.e. action at time $t=2$ could for example be $\\text{Up}$, $a_2=\\mathtt{a}^3$. "
   ]
  },
  {
   "cell_type": "markdown",
   "metadata": {
    "slideshow": {
     "slide_type": "slide"
    }
   },
   "source": [
    "#### Transition model ($\\mathcal{T}$)\n",
    "\n",
    "As before, the transition model denotes the probabilities of transitioning between states but now they are also conditional on actions."
   ]
  },
  {
   "cell_type": "markdown",
   "metadata": {
    "slideshow": {
     "slide_type": "fragment"
    }
   },
   "source": [
    "**Deterministic setting**\n",
    "\n",
    "For example, taking action 'Right' in the start state $\\mathtt{s}^0=(0,0)$, will result in the elf moving state $\\mathtt{s}^1=(0,1)$ (row 0, column 1). Mathematically, \n",
    "\n",
    "$$\\mathbb{P}(s'=\\mathtt{s}^1 | s=\\mathtt{s}^0, a=\\mathtt{a}^2) = 1.$$ \n",
    "\n",
    "Moving into the holes $\\mathtt{s}^{5}, \\mathtt{s}^{7}, \\mathtt{s}^{11}, \\mathtt{s}^{12}$ causes the game to end."
   ]
  },
  {
   "cell_type": "markdown",
   "metadata": {
    "slideshow": {
     "slide_type": "slide"
    }
   },
   "source": [
    "**Stochastic setting**\n",
    "\n",
    "But say there are strong winds towards the north causing the agent to randomly move to tbe cell above instead of the intended square 20% of the time."
   ]
  },
  {
   "cell_type": "markdown",
   "metadata": {
    "slideshow": {
     "slide_type": "fragment"
    }
   },
   "source": [
    "For example, in state $\\mathtt{s}^8$ when the elf wants to move right but instead moves so state $\\mathtt{s}^4$  $20\\%$ of the time and moves as intended rest of the time."
   ]
  },
  {
   "cell_type": "markdown",
   "metadata": {
    "slideshow": {
     "slide_type": "fragment"
    }
   },
   "source": [
    "Mathematically, \n",
    "\n",
    "$$\\mathbb{P}(s'=\\mathtt{s}^4 | s=\\mathtt{s}^8, a=\\mathtt{a}^3) = 0.2 \\quad \\text{and} \\quad \\mathbb{P}(s'=\\mathtt{s}^9 | s=\\mathtt{s}^8, a=\\mathtt{a}^3) = 0.8.$$ \n",
    "\n",
    "\n",
    "<div align=\"center\"> \n",
    "<img src=\"images/FrozenLake-v1.png\"/>\n",
    "</div>"
   ]
  },
  {
   "cell_type": "markdown",
   "metadata": {
    "slideshow": {
     "slide_type": "slide"
    }
   },
   "source": [
    "#### Reward model ($\\mathcal{R}$)\n",
    "\n",
    "The reward model defines the distribution of rewards in the MDP and is given as $\\mathcal{R}(s, a, s')$. "
   ]
  },
  {
   "cell_type": "markdown",
   "metadata": {
    "slideshow": {
     "slide_type": "fragment"
    }
   },
   "source": [
    "It states that we receive reward $r$ after taking action $a$ in state $s$ and moving to state $s'$."
   ]
  },
  {
   "cell_type": "markdown",
   "metadata": {
    "slideshow": {
     "slide_type": "fragment"
    }
   },
   "source": [
    "In the above example, we receive a reward of $+1$ when we collect the present at location $\\mathtt{s}^{15}=(3,3)$. \n",
    "\n",
    "In all other cases we receive $0$ reward. Therefore, we simplfy the reward model to $\\mathcal{R}(s)$."
   ]
  },
  {
   "cell_type": "markdown",
   "metadata": {
    "slideshow": {
     "slide_type": "slide"
    }
   },
   "source": [
    "#### Discount factor ($\\gamma$)\n",
    "\n",
    "Discount factor is value between $0$ and $1$ and tells the elf the relative importance of future rewards and motivates the agent to collect rewards as early as possible (similar to [inflation](https://en.wikipedia.org/wiki/Inflation))."
   ]
  },
  {
   "cell_type": "markdown",
   "metadata": {
    "slideshow": {
     "slide_type": "slide"
    }
   },
   "source": [
    "Similar to Markov Processes, an MDP trajectory is a sequence of states, actions and rewards over time\n",
    "\n",
    "$$s_0, a_0, r_1, s_1, a_1, r_2, s_2, a_2, r_3, \\ldots$$ "
   ]
  },
  {
   "cell_type": "markdown",
   "metadata": {
    "slideshow": {
     "slide_type": "fragment"
    }
   },
   "source": [
    "(show demonstration)"
   ]
  },
  {
   "cell_type": "markdown",
   "metadata": {
    "slideshow": {
     "slide_type": "slide"
    }
   },
   "source": [
    "## Objective"
   ]
  },
  {
   "cell_type": "markdown",
   "metadata": {
    "slideshow": {
     "slide_type": "fragment"
    }
   },
   "source": [
    "The objective is to find the *shortest* path from start state (S) to goal state (G) and thus would like to know what action to take in each state."
   ]
  },
  {
   "cell_type": "markdown",
   "metadata": {
    "slideshow": {
     "slide_type": "fragment"
    }
   },
   "source": [
    "More formally, we are seeking a mapping from states to actions which is called a policy, denoted by $\\pi(s): \\mathcal{S} \\to \\mathcal{A}$. "
   ]
  },
  {
   "cell_type": "markdown",
   "metadata": {
    "slideshow": {
     "slide_type": "fragment"
    }
   },
   "source": [
    "The policy that provides the shortest path is called the optimal policy $\\pi^*(s)$ and is solution to the MDP."
   ]
  },
  {
   "cell_type": "markdown",
   "metadata": {
    "slideshow": {
     "slide_type": "slide"
    }
   },
   "source": [
    "### Quiz: \n",
    "\n",
    "Q3. Can you write down the optimal policy for the elf in the Frozen Lake example? Is it unique?"
   ]
  },
  {
   "cell_type": "markdown",
   "metadata": {
    "slideshow": {
     "slide_type": "slide"
    }
   },
   "source": [
    "## Takeaways\n",
    "\n",
    "- **Markov property**: Given the current state, the next state is independent of the previous states. "
   ]
  },
  {
   "cell_type": "markdown",
   "metadata": {
    "slideshow": {
     "slide_type": "fragment"
    }
   },
   "source": [
    "- MDPs are a mathematical framework to model decision-making under transition uncertainty."
   ]
  },
  {
   "cell_type": "markdown",
   "metadata": {
    "slideshow": {
     "slide_type": "fragment"
    }
   },
   "source": [
    "- An MDP is defined by a state space $\\mathcal{S}$, action space $\\mathcal{A}$, transition model $\\mathcal{T}$, reward model $\\mathcal{R}$ and discount factor $\\gamma$."
   ]
  },
  {
   "cell_type": "markdown",
   "metadata": {
    "slideshow": {
     "slide_type": "fragment"
    }
   },
   "source": [
    "- The solution to an MDP is an optimal policy $\\pi^*(s)$ that prescribes the optimal action to take in each state."
   ]
  },
  {
   "cell_type": "markdown",
   "metadata": {
    "slideshow": {
     "slide_type": "slide"
    }
   },
   "source": [
    "# References\n"
   ]
  },
  {
   "cell_type": "markdown",
   "metadata": {
    "slideshow": {
     "slide_type": "fragment"
    }
   },
   "source": [
    "Example taken from the official Gym respository: [frozen_lake.py](https://github.com/openai/gym/blob/master/gym/envs/toy_text/frozen_lake.py). \n",
    "Brockman, G.. OpenAI Gym. arXiv (2016). https://arxiv.org/pdf/1606.01540.pdf\n",
    "\n",
    "Kochenderfer, Decision Making Under Uncertainty: Theory and Application.\n",
    "\n",
    "Kaelbling, L. P., Littman, M. L. & Cassandra, A. R. Planning and acting in partially observable stochastic domains. Artificial Intelligence 101, 99–134 (1998).\n",
    "\n",
    "Richard S. Sutton & Andrew G. Barto. Reinforcement learning : an introduction. (2020)\n"
   ]
  }
 ],
 "metadata": {
  "celltoolbar": "Slideshow",
  "kernelspec": {
   "display_name": "Python 3 (ipykernel)",
   "language": "python",
   "name": "python3"
  },
  "language_info": {
   "codemirror_mode": {
    "name": "ipython",
    "version": 3
   },
   "file_extension": ".py",
   "mimetype": "text/x-python",
   "name": "python",
   "nbconvert_exporter": "python",
   "pygments_lexer": "ipython3",
   "version": "3.11.2"
  },
  "vscode": {
   "interpreter": {
    "hash": "df9c06b5e8521cf4ac10b32b5194d6e2193b759c220900fa5a35003364e8f855"
   }
  }
 },
 "nbformat": 4,
 "nbformat_minor": 2
}
