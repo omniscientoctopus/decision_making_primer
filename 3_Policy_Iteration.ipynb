{
 "cells": [
  {
   "cell_type": "markdown",
   "metadata": {
    "slideshow": {
     "slide_type": "slide"
    }
   },
   "source": [
    "## Solving MDPs using Policy Iteration"
   ]
  },
  {
   "cell_type": "markdown",
   "metadata": {
    "slideshow": {
     "slide_type": "slide"
    }
   },
   "source": [
    "# Policy Iteration"
   ]
  },
  {
   "cell_type": "markdown",
   "metadata": {
    "slideshow": {
     "slide_type": "fragment"
    }
   },
   "source": [
    "Policy iteration is a dynamic programming approach."
   ]
  },
  {
   "cell_type": "markdown",
   "metadata": {
    "slideshow": {
     "slide_type": "fragment"
    }
   },
   "source": [
    "Policy Iteration involves two steps:\n",
    "\n",
    "1. Policy Evaluation\n",
    "\n",
    "2. Policy Improvement"
   ]
  },
  {
   "cell_type": "markdown",
   "metadata": {
    "slideshow": {
     "slide_type": "slide"
    }
   },
   "source": [
    "## Policy Evaluation"
   ]
  },
  {
   "cell_type": "markdown",
   "metadata": {
    "slideshow": {
     "slide_type": "fragment"
    }
   },
   "source": [
    "We evaluate the policy to compute value of states when following that policy."
   ]
  },
  {
   "cell_type": "markdown",
   "metadata": {
    "slideshow": {
     "slide_type": "fragment"
    }
   },
   "source": [
    "Recall, we define value of state $s$ under policy $\\pi$ as,\n",
    "\n",
    "$$V_{\\pi}(s) := \\mathbb{E}_{\\pi} \\big [ G_t | S_t = s \\big ], \\quad \\forall s \\in \\mathcal{S}$$"
   ]
  },
  {
   "cell_type": "markdown",
   "metadata": {
    "slideshow": {
     "slide_type": "fragment"
    }
   },
   "source": [
    "We define action-value of state-action spair $(s,a)$ under policy $\\pi$ as,\n",
    "\n",
    "$$Q_{\\pi}(s, a) := \\mathbb{E}_{\\pi} \\big [ G_t | S_t = s, A_t = a \\big ], \\quad \\forall s \\in \\mathcal{S}$$"
   ]
  },
  {
   "cell_type": "markdown",
   "metadata": {
    "slideshow": {
     "slide_type": "fragment"
    }
   },
   "source": [
    "We compute the expected return $V_{\\pi}(s)$ for each state using the Bellman equation as follows, \n",
    "\n",
    "$$Q_{\\pi}(s, a) = \\sum_{s'} \\mathcal{T}(s' | s, a) \\big [\\mathcal{R}(s,a,s') + \\gamma \\cdot V_{\\pi}(s') \\big ]$$\n",
    "\n",
    "$$V_{\\pi}(s) = Q_{\\pi}(s, \\pi(s) = a)= \\mathbb{E}_{\\pi} \\big [ G_t | S_t = s, A_t = \\pi(s)\\big ]$$\n",
    "\n",
    "where $V_{\\pi}(s)$ denotes the value of the states when acting according to policy $\\pi(s)$.  "
   ]
  },
  {
   "cell_type": "markdown",
   "metadata": {
    "slideshow": {
     "slide_type": "fragment"
    }
   },
   "source": [
    "If the policy is optimal, the values of the states are optimal $V_{*}(s)$ as defined in the previous tutorial. "
   ]
  },
  {
   "cell_type": "markdown",
   "metadata": {
    "slideshow": {
     "slide_type": "slide"
    }
   },
   "source": [
    "### Policy improvement\n",
    "\n",
    "In this step, we improve the policy $\\pi(s)$ by acting greedily with respect to the estimated $V_{\\pi}(s)$ in the previous step."
   ]
  },
  {
   "cell_type": "markdown",
   "metadata": {
    "slideshow": {
     "slide_type": "fragment"
    }
   },
   "source": [
    "$$ Q_{\\pi}(s, \\hat a) = \\sum_{s'} \\mathcal{T}(s' | s, \\hat a) \\big [\\mathcal{R}(s,\\hat a,s') + \\gamma \\cdot V_{\\pi}(s')]$$\n",
    "\n",
    "$$\\pi'(s) = \\mathrm{argmax_{\\hat a}} Q_{\\pi}(s, \\hat a).$$"
   ]
  },
  {
   "cell_type": "markdown",
   "metadata": {
    "slideshow": {
     "slide_type": "fragment"
    }
   },
   "source": [
    "We call the new (improved) policy $\\pi'(s)$."
   ]
  },
  {
   "cell_type": "markdown",
   "metadata": {
    "slideshow": {
     "slide_type": "fragment"
    }
   },
   "source": [
    "We are able to obtain a new policy simply by acting greedily with respect to $Q_{\\pi}(s, \\hat a)$ due to the *policy improvement theorem*."
   ]
  },
  {
   "cell_type": "markdown",
   "metadata": {
    "slideshow": {
     "slide_type": "slide"
    }
   },
   "source": [
    "In somewhat simpler words, \n",
    "\n",
    "- We start with a random policy and evaluate the 'value' / 'worth' of each state $V_{\\pi}(s)$ under that policy (policy evaluation). "
   ]
  },
  {
   "cell_type": "markdown",
   "metadata": {
    "slideshow": {
     "slide_type": "fragment"
    }
   },
   "source": [
    "- To improve the current policy $\\pi(s)$, you reconsider the actions in each state prescribed by that policy. "
   ]
  },
  {
   "cell_type": "markdown",
   "metadata": {
    "slideshow": {
     "slide_type": "fragment"
    }
   },
   "source": [
    "- In a given state $s$, you evaluate all actions-values $Q_{\\pi}(s, \\hat a)$ and compare it with you current policy (which prescribes action $\\pi(s) = a$). "
   ]
  },
  {
   "cell_type": "markdown",
   "metadata": {
    "slideshow": {
     "slide_type": "fragment"
    }
   },
   "source": [
    "- If the maximum value corresponds to $\\bar a \\neq a$, i.e. the best action is different from the one prescribed by policy, we simply update our policy to $\\pi'(s) = \\bar a$ (policy improvement theorem)."
   ]
  },
  {
   "cell_type": "markdown",
   "metadata": {
    "slideshow": {
     "slide_type": "fragment"
    }
   },
   "source": [
    "- Repeat for all states."
   ]
  },
  {
   "cell_type": "markdown",
   "metadata": {
    "slideshow": {
     "slide_type": "fragment"
    }
   },
   "source": [
    "- We evaluate the new policy $\\pi'(s)$ and repeat the process until we obtain the optimal policy."
   ]
  },
  {
   "cell_type": "markdown",
   "metadata": {
    "slideshow": {
     "slide_type": "fragment"
    }
   },
   "source": [
    "The algorithm can be seen as follows,\n",
    "\n",
    "$ \\pi(s) \\xrightarrow{\\text{E}} V_{\\pi}(s) \\xrightarrow{\\text{I}} \\pi'(s) \\xrightarrow{\\text{E}} \\ldots \\pi_{*}(s)$\n",
    "\n",
    "where $\\xrightarrow{\\text{E}}$ represents *policy evaluation* and $\\xrightarrow{\\text{I}}$ represents *policy improvement*."
   ]
  },
  {
   "cell_type": "markdown",
   "metadata": {
    "slideshow": {
     "slide_type": "slide"
    }
   },
   "source": [
    "# Example: Frozen Lake"
   ]
  },
  {
   "cell_type": "markdown",
   "metadata": {
    "slideshow": {
     "slide_type": "fragment"
    }
   },
   "source": [
    "ITERATION: 0\n",
    "\n",
    "$\\pi_0$ = random actions\n",
    "\n",
    "$V_{\\pi_0}$ = random values\n",
    "\n",
    "<div align=\"center\"> \n",
    "<img src=\"images/1.png\"  width=\"80%\"/>\n",
    "</div>"
   ]
  },
  {
   "cell_type": "markdown",
   "metadata": {
    "slideshow": {
     "slide_type": "slide"
    }
   },
   "source": [
    "ITERATION: 1\n",
    "\n",
    "<div align=\"center\"> \n",
    "<img src=\"images/2.png\"  width=\"80%\"/>\n",
    "</div>"
   ]
  },
  {
   "cell_type": "markdown",
   "metadata": {
    "slideshow": {
     "slide_type": "slide"
    }
   },
   "source": [
    "ITERATION: 2\n",
    "\n",
    "<div align=\"center\"> \n",
    "<img src=\"images/3.png\"  width=\"80%\"/>\n",
    "</div>"
   ]
  },
  {
   "cell_type": "markdown",
   "metadata": {
    "slideshow": {
     "slide_type": "slide"
    }
   },
   "source": [
    "ITERATION: 3\n",
    "\n",
    "<div align=\"center\">\n",
    "<img src=\"images/4.png\"  width=\"80%\"/>\n",
    "</div>"
   ]
  },
  {
   "cell_type": "markdown",
   "metadata": {
    "slideshow": {
     "slide_type": "slide"
    }
   },
   "source": [
    "ITERATION: 4\n",
    "\n",
    "<div align=\"center\"> \n",
    "<img src=\"images/5.png\"  width=\"80%\"/>\n",
    "</div>"
   ]
  },
  {
   "cell_type": "markdown",
   "metadata": {
    "slideshow": {
     "slide_type": "slide"
    }
   },
   "source": [
    "ITERATION: 5\n",
    "\n",
    "<div align=\"center\"> \n",
    "<img src=\"images/6.png\"  width=\"80%\"/>\n",
    "</div>"
   ]
  },
  {
   "cell_type": "markdown",
   "metadata": {
    "slideshow": {
     "slide_type": "slide"
    }
   },
   "source": [
    "ITERATION: 6\n",
    "\n",
    "<div align=\"center\"> \n",
    "<img src=\"images/7.png\"  width=\"80%\"/>\n",
    "</div>"
   ]
  },
  {
   "cell_type": "markdown",
   "metadata": {
    "slideshow": {
     "slide_type": "slide"
    }
   },
   "source": [
    "## Python code"
   ]
  },
  {
   "cell_type": "code",
   "execution_count": 7,
   "metadata": {
    "slideshow": {
     "slide_type": "fragment"
    }
   },
   "outputs": [],
   "source": [
    "import copy\n",
    "\n",
    "import numpy as np\n",
    "from frozen_lake import FrozenLake\n",
    "\n",
    "import matplotlib.pyplot as plt\n",
    "import seaborn as sns\n",
    "from utils import plot_policy, plot_values, format_plot"
   ]
  },
  {
   "cell_type": "markdown",
   "metadata": {
    "slideshow": {
     "slide_type": "fragment"
    }
   },
   "source": [
    "## Initialise Environment"
   ]
  },
  {
   "cell_type": "code",
   "execution_count": 8,
   "metadata": {
    "slideshow": {
     "slide_type": "fragment"
    }
   },
   "outputs": [],
   "source": [
    "env = FrozenLake()\n",
    "# env = FrozenLake(prob_slip=0.1)\n",
    "\n",
    "num_states = env.observation_space.n\n",
    "num_actions = env.action_space.n\n",
    "DISCOUNT_FACTOR = 0.9"
   ]
  },
  {
   "cell_type": "markdown",
   "metadata": {
    "slideshow": {
     "slide_type": "slide"
    }
   },
   "source": [
    "## Policy Evaluation"
   ]
  },
  {
   "cell_type": "markdown",
   "metadata": {
    "slideshow": {
     "slide_type": "slide"
    }
   },
   "source": [
    "    Initialise accuracy threshold\n",
    "\n",
    "    Randomly initialise V(s) under current policy\n",
    "\n",
    "    Loop until error > accuracy threshold\n",
    "\n",
    "        Set error = 0\n",
    "\n",
    "        Loop over all states s in S:\n",
    "            get old V(s) under current policy\n",
    "\n",
    "            get action from current policy: pi(s)\n",
    "\n",
    "            compute new value of state under policy\n",
    "\n",
    "            compute error: old value - new value"
   ]
  },
  {
   "cell_type": "code",
   "execution_count": 9,
   "metadata": {
    "slideshow": {
     "slide_type": "slide"
    }
   },
   "outputs": [],
   "source": [
    "def evaluate_policy(policy):\n",
    "\n",
    "    # Initialise values of all states\n",
    "    # under policy pi\n",
    "    v_pi = np.random.rand(num_states)\n",
    "\n",
    "    accuracy_threshold = 1e-3\n",
    "    error = 10\n",
    "\n",
    "    while error > accuracy_threshold:\n",
    "        error = 0\n",
    "\n",
    "        # loop over all states\n",
    "        for state in range(num_states):\n",
    "\n",
    "            old_value = v_pi[state]\n",
    "            action = policy[state] # get action from policy\n",
    "\n",
    "            q_val = 0\n",
    "\n",
    "            tuples = env.MDP(state, action)\n",
    "            for tuple in tuples:\n",
    "                prob, next_state, reward, done = tuple\n",
    "                # Q_pi(s,a) = ∑ T(s'|s, pi(s)=a) [R(s) + V_pi(s')]\n",
    "                future_value = v_pi[next_state] * int(1 - done) # set future values of done states to 0\n",
    "                q_val += prob * (reward + DISCOUNT_FACTOR * future_value)\n",
    "\n",
    "            # we overwrite the previous estimate of the state value\n",
    "            v_pi[state] = q_val\n",
    "\n",
    "            # evaluate the difference between the old and new value\n",
    "            error = max([error, np.abs(old_value - q_val)])\n",
    "    \n",
    "    return v_pi"
   ]
  },
  {
   "cell_type": "markdown",
   "metadata": {
    "slideshow": {
     "slide_type": "slide"
    }
   },
   "source": [
    "## Policy Evaluation + Improvement"
   ]
  },
  {
   "cell_type": "markdown",
   "metadata": {
    "slideshow": {
     "slide_type": "fragment"
    }
   },
   "source": [
    "    Initialise Q (empty) table (for actions-values under current policy)\n",
    "\n",
    "    Randomly initialise policy\n",
    "\n",
    "    Loop until optimal policy is found:\n",
    "\n",
    "        Evaluate current policy\n",
    "\n",
    "        Loop over all states s in S:\n",
    "            get action under current policy\n",
    "\n",
    "            Loop over all actions a in A:\n",
    "                compute Q(s, a)\n",
    "\n",
    "            get actions with max Q(s, a) (best actions) --> policy improvement\n",
    "\n",
    "            update current policy \n",
    "\n",
    "            check if old action in best actions"
   ]
  },
  {
   "cell_type": "code",
   "execution_count": 10,
   "metadata": {
    "slideshow": {
     "slide_type": "slide"
    }
   },
   "outputs": [],
   "source": [
    "# Initialisations\n",
    "q_values = np.empty((num_states, num_actions))\n",
    "# we store only one action per state\n",
    "policy = np.random.randint(0, 4, size=num_states)\n",
    "\n",
    "# we store all optimal actions for a state\n",
    "complete_policy = {}\n",
    "for state in range(num_states):\n",
    "    complete_policy[state] = [0, 1, 2, 3]\n",
    "\n",
    "store_v_pi = []\n",
    "store_policy = []\n",
    "store_policy.append(copy.deepcopy(complete_policy))"
   ]
  },
  {
   "cell_type": "code",
   "execution_count": 11,
   "metadata": {
    "slideshow": {
     "slide_type": "slide"
    }
   },
   "outputs": [],
   "source": [
    "stable_policy = False\n",
    "while not stable_policy:\n",
    "\n",
    "    # evaluate the policy\n",
    "    v_pi = evaluate_policy(policy)\n",
    "    \n",
    "    # (optional)\n",
    "    # store output of each iteration for plotting\n",
    "    store_v_pi.append(copy.deepcopy(v_pi))\n",
    "\n",
    "    # assume this policy is stable\n",
    "    stable_policy = True\n",
    "\n",
    "    # loop over all states\n",
    "    for state in range(num_states):\n",
    "\n",
    "        # get old action from policy \n",
    "        old_action = policy[state]\n",
    "\n",
    "        # compute Q values of all actions\n",
    "        for action in range(num_actions):\n",
    "            q_val = 0\n",
    "\n",
    "            tuples = env.MDP(state, action)\n",
    "            for tuple in tuples:\n",
    "                prob, next_state, reward, done = tuple\n",
    "                # Q_pi(s,a) = ∑ T(s'|s,a) [R(s) + V_pi(s')]\n",
    "                future_value = v_pi[next_state] * int(1 - done) # set future values of done states to 0\n",
    "                q_val += prob * (reward + DISCOUNT_FACTOR * future_value)\n",
    "           \n",
    "            # overwrite the Q value estimate\n",
    "            q_values[state, action] = q_val\n",
    "\n",
    "        # we can have more than one optimal action per state\n",
    "        # here, we get all actions whose q_value is equal to q_max\n",
    "        best_actions = np.flatnonzero(q_values[state, :]  == max(q_values[state, :]))\n",
    "        # we break ties randomly, \n",
    "        # i.e. select best actions randomly with equal probability \n",
    "        new_action = np.random.choice(best_actions)\n",
    "        policy[state] = new_action\n",
    "\n",
    "        # (optional)\n",
    "        complete_policy[state] = list(best_actions)\n",
    "\n",
    "        # since more than one action can be optimal in a given state,\n",
    "        # we must check all actions\n",
    "        if old_action not in best_actions:\n",
    "            stable_policy = False\n",
    "\n",
    "    # (optional)\n",
    "    # store output of each iteration for plotting\n",
    "    store_policy.append(copy.deepcopy(complete_policy))"
   ]
  },
  {
   "cell_type": "markdown",
   "metadata": {
    "slideshow": {
     "slide_type": "notes"
    }
   },
   "source": [
    "## Plots results"
   ]
  },
  {
   "cell_type": "code",
   "execution_count": 17,
   "metadata": {
    "slideshow": {
     "slide_type": "notes"
    }
   },
   "outputs": [
    {
     "data": {
      "image/png": "[encoded data removed]",
      "text/plain": [
       "<Figure size 600x1400 with 10 Axes>"
      ]
     },
     "metadata": {},
     "output_type": "display_data"
    }
   ],
   "source": [
    "num_plots = len(store_policy) - 1\n",
    "\n",
    "fig, ax = plt.subplots(num_plots, 2, figsize=(6, 14))\n",
    "\n",
    "for k in range(num_plots):\n",
    "\n",
    "    plot_policy(ax[k][0], store_policy[k])\n",
    "    plot_values(ax[k][1], store_v_pi[k])\n",
    "    \n",
    "    # cleaning up plots\n",
    "    format_plot(ax[k][0])\n",
    "    format_plot(ax[k][1])\n",
    "\n",
    "    ax[k][0].set_title(f'$\\pi_{{{k}}}$')\n",
    "    ax[k][1].set_title(f'V$\\pi_{{{k}}}$(s)')\n",
    "\n",
    "fig.suptitle('Policy Iteration', fontsize=20)\n",
    "fig.tight_layout()\n",
    "plt.show()"
   ]
  },
  {
   "cell_type": "markdown",
   "metadata": {
    "slideshow": {
     "slide_type": "slide"
    }
   },
   "source": [
    "### Similarities between Value iteration and Policy iteration\n",
    "\n",
    "- Value iteration can be seen as a special case of policy iteration\n",
    "\n",
    "- We carry out policy evaluation just for 1 step (unlike in policy iteration where we loop until convergence) and 1 step of policy improvement."
   ]
  },
  {
   "cell_type": "markdown",
   "metadata": {
    "slideshow": {
     "slide_type": "slide"
    }
   },
   "source": [
    "## Takeaways"
   ]
  },
  {
   "cell_type": "markdown",
   "metadata": {
    "slideshow": {
     "slide_type": "fragment"
    }
   },
   "source": [
    " - Policy Iteration has two phases: Policy evaluation and Policy Improvement."
   ]
  },
  {
   "cell_type": "markdown",
   "metadata": {
    "slideshow": {
     "slide_type": "fragment"
    }
   },
   "source": [
    " \n",
    " - Policy Evaluation estimates the expected return for each state $s$ from the policy $\\pi$."
   ]
  },
  {
   "cell_type": "markdown",
   "metadata": {
    "slideshow": {
     "slide_type": "fragment"
    }
   },
   "source": [
    " \n",
    " - Policy Improvement improves the policy $\\pi$ by acting greedily wrt to it."
   ]
  },
  {
   "cell_type": "markdown",
   "metadata": {
    "slideshow": {
     "slide_type": "fragment"
    }
   },
   "source": [
    " - Value iteration is a special case of policy iteration, where we only carry out one step of policy evaluation and one step of policy improvement. "
   ]
  },
  {
   "cell_type": "markdown",
   "metadata": {
    "slideshow": {
     "slide_type": "fragment"
    }
   },
   "source": [
    "In the next tutorial, we will see our first reinforcement learning algorithm and train an agent with it!"
   ]
  },
  {
   "cell_type": "markdown",
   "metadata": {
    "slideshow": {
     "slide_type": "slide"
    }
   },
   "source": [
    "# References\n",
    "\n",
    "Brockman, G.. OpenAI Gym. arXiv (2016). https://arxiv.org/pdf/1606.01540.pdf\n",
    "\n",
    "Richard S. Sutton & Andrew G. Barto. Reinforcement learning : an introduction. (2020)"
   ]
  }
 ],
 "metadata": {
  "celltoolbar": "Slideshow",
  "kernelspec": {
   "display_name": "Python 3 (ipykernel)",
   "language": "python",
   "name": "python3"
  },
  "language_info": {
   "codemirror_mode": {
    "name": "ipython",
    "version": 3
   },
   "file_extension": ".py",
   "mimetype": "text/x-python",
   "name": "python",
   "nbconvert_exporter": "python",
   "pygments_lexer": "ipython3",
   "version": "3.12.0"
  },
  "vscode": {
   "interpreter": {
    "hash": "df9c06b5e8521cf4ac10b32b5194d6e2193b759c220900fa5a35003364e8f855"
   }
  }
 },
 "nbformat": 4,
 "nbformat_minor": 4
}
